{
 "cells": [
  {
   "cell_type": "markdown",
   "metadata": {},
   "source": [
    "insanely hard to find good data, but [here it is](https://www.kaggle.com/datasets/erichqiu/nba-odds-and-scores?select=2018-19)."
   ]
  },
  {
   "cell_type": "code",
   "execution_count": 7,
   "metadata": {},
   "outputs": [
    {
     "name": "stdout",
     "output_type": "stream",
     "text": [
      "year: 2015-16\n",
      "total number of games played: 1230\n",
      "number of games correctly predicted: 861\n",
      "percentage of games correctly predicted: 70.00\n"
     ]
    }
   ],
   "source": [
    "import pandas as pd\n",
    "\n",
    "# switch for year\n",
    "year = '2015-16'\n",
    "\n",
    "# load the vegas.txt file as a DataFrame\n",
    "vegas_df = pd.read_csv(f'{year}/vegas.txt')\n",
    "\n",
    "# get every even-numbered row: in original file, each row corresponds to team, so pairs of rows are roughly redundant\n",
    "vegas_df = vegas_df.iloc[1::2].reset_index(drop=True)\n",
    "\n",
    "# count games\n",
    "num_games = len(vegas_df)\n",
    "\n",
    "# count games where the home team's being un-favored was equal to the home team's losing\n",
    "num_games_correct = ((vegas_df['Pinnacle_ML'] > 0) == (vegas_df['Result'] == 'L')).sum()\n",
    "\n",
    "# print how well Vegas did:\n",
    "print(f'year: {year}\\ntotal number of games played: {num_games}\\nnumber of games correctly predicted: {num_games_correct}\\npercentage of games correctly predicted: {100*num_games_correct / num_games:.2f}')"
   ]
  },
  {
   "cell_type": "code",
   "execution_count": null,
   "metadata": {},
   "outputs": [],
   "source": []
  }
 ],
 "metadata": {
  "kernelspec": {
   "display_name": "TBN",
   "language": "python",
   "name": "python3"
  },
  "language_info": {
   "codemirror_mode": {
    "name": "ipython",
    "version": 3
   },
   "file_extension": ".py",
   "mimetype": "text/x-python",
   "name": "python",
   "nbconvert_exporter": "python",
   "pygments_lexer": "ipython3",
   "version": "3.10.14"
  }
 },
 "nbformat": 4,
 "nbformat_minor": 2
}
