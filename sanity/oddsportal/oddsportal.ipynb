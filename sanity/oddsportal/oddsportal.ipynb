{
 "cells": [
  {
   "cell_type": "code",
   "execution_count": 3,
   "metadata": {},
   "outputs": [],
   "source": [
    "import requests, time\n",
    "from bs4 import BeautifulSoup\n",
    "import pandas as pd"
   ]
  },
  {
   "cell_type": "code",
   "execution_count": 4,
   "metadata": {},
   "outputs": [
    {
     "name": "stdout",
     "output_type": "stream",
     "text": [
      "percentage of games correctly predicted: 65.2108\n"
     ]
    }
   ],
   "source": [
    "year = '2022-23' #21-22 or 22-23\n",
    "\n",
    "with open(f'NBA_{year}.html', 'r', encoding='utf-8') as file:\n",
    "    html_content = file.read()\n",
    "\n",
    "soup = BeautifulSoup(html_content, 'html.parser')\n",
    "\n",
    "table = soup.find('table')\n",
    "first_row = table.find_all('tr')[0]\n",
    "headers = [header.text for header in first_row.find_all('td')]\n",
    "\n",
    "rows = []\n",
    "for row in table.find_all('tr')[1:]: \n",
    "    rows.append([td.text for td in row.find_all('td')])\n",
    "\n",
    "df = pd.DataFrame(rows, columns=headers)\n",
    "\n",
    "numeric_columns = ['1st', '2nd', '3rd', '4th', 'Final', 'Open', 'Close', 'ML', '2H']\n",
    "df[numeric_columns] = df[numeric_columns].apply(pd.to_numeric, errors='coerce')\n",
    "\n",
    "counter = 0\n",
    "for i in range(0, len(df) - 1, 2):\n",
    "    first_team = df.iloc[i]\n",
    "    second_team = df.iloc[i + 1]\n",
    "    \n",
    "    first_team_lost = first_team['Final'] < second_team['Final']\n",
    "    first_team_predicted_to_lose = first_team['ML'] > second_team['ML']\n",
    "    \n",
    "    if first_team_lost == first_team_predicted_to_lose:\n",
    "        counter += 1\n",
    "        \n",
    "print(f'percentage of games correctly predicted: {100*counter/(len(df)/2):.4f}')"
   ]
  }
 ],
 "metadata": {
  "kernelspec": {
   "display_name": "TBN",
   "language": "python",
   "name": "python3"
  },
  "language_info": {
   "codemirror_mode": {
    "name": "ipython",
    "version": 3
   },
   "file_extension": ".py",
   "mimetype": "text/x-python",
   "name": "python",
   "nbconvert_exporter": "python",
   "pygments_lexer": "ipython3",
   "version": "3.10.14"
  }
 },
 "nbformat": 4,
 "nbformat_minor": 2
}
