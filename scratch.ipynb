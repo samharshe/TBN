{
 "cells": [
  {
   "cell_type": "code",
   "execution_count": 1,
   "metadata": {},
   "outputs": [],
   "source": [
    "%load_ext autoreload\n",
    "%autoreload 2"
   ]
  },
  {
   "cell_type": "code",
   "execution_count": 3,
   "metadata": {},
   "outputs": [],
   "source": [
    "from src.data import data as data_utils\n",
    "from src.ml import model as model_utils\n",
    "from run import scripts\n",
    "import torch\n",
    "from torch import nn\n",
    "from torch import optim\n",
    "from torch.optim import lr_scheduler\n",
    "\n",
    "torch.manual_seed(2002);"
   ]
  },
  {
   "cell_type": "code",
   "execution_count": 223,
   "metadata": {},
   "outputs": [
    {
     "name": "stderr",
     "output_type": "stream",
     "text": [
      "/Users/sharshe/Documents/TBN/src/data/data.py:345: FutureWarning: You are using `torch.load` with `weights_only=False` (the current default value), which uses the default pickle module implicitly. It is possible to construct malicious pickle data which will execute arbitrary code during unpickling (See https://github.com/pytorch/pytorch/blob/main/SECURITY.md#untrusted-models for more details). In a future release, the default value for `weights_only` will be flipped to `True`. This limits the functions that could be executed during unpickling. Arbitrary objects will no longer be allowed to be loaded via this mode unless they are explicitly allowlisted by the user via `torch.serialization.add_safe_globals`. We recommend you start setting `weights_only=True` for any use case where you don't have full control of the loaded file. Please open an issue on GitHub for any issues related to this experimental feature.\n",
      "  return torch.load(dataloaders_path)\n"
     ]
    }
   ],
   "source": [
    "train_dataloader, val_dataloader, test_dataloader = data_utils.dataloaders(name='elephant', x_version=['players','teams'], y_version='score', train_split=0.8, val_split=0.1, test_split=0.1, batch_size=32, engineered=['player','team'])"
   ]
  },
  {
   "cell_type": "code",
   "execution_count": 229,
   "metadata": {},
   "outputs": [],
   "source": [
    "cfg_dict = {\n",
    "    'name': 'jackery',\n",
    "    'dataset_name': 'elephant',\n",
    "    'x_version': 'players',\n",
    "    'y_version': 'score',\n",
    "    'batch_size': 32,\n",
    "    'train_split': 0.8,\n",
    "    'val_split': 0.1,\n",
    "    'test_split': 0.1,\n",
    "    'n_epochs': 100,\n",
    "    'loss_fn': 'HuberLoss',\n",
    "    'optimizer': 'Adam',\n",
    "    'scheduler': 'ReduceLROnPlateau',\n",
    "    'model': 'HybridModel',\n",
    "    'd_mod': 64\n",
    "}"
   ]
  },
  {
   "cell_type": "code",
   "execution_count": 230,
   "metadata": {},
   "outputs": [],
   "source": [
    "model = model_utils.HybridModel(d_in=[65, 49], d_mod=cfg_dict['d_mod'])"
   ]
  },
  {
   "cell_type": "code",
   "execution_count": 222,
   "metadata": {},
   "outputs": [
    {
     "name": "stdout",
     "output_type": "stream",
     "text": [
      "final prediction: model(x)\n",
      "[[[0.5849698185920715], [0.5708872675895691]], [[0.5852054953575134], [0.5707940459251404]], [[0.5866932272911072], [0.5710501074790955]], [[0.586275577545166], [0.5721446871757507]], [[0.5842680335044861], [0.5706348419189453]], [[0.5861982703208923], [0.5714473128318787]], [[0.5843818783760071], [0.5712748765945435]], [[0.5846402049064636], [0.5706528425216675]], [[0.5849000811576843], [0.5704420208930969]], [[0.5861791968345642], [0.5716020464897156]], [[0.5863630175590515], [0.5712636709213257]], [[0.5848798155784607], [0.5710973143577576]], [[0.586735188961029], [0.5719118118286133]], [[0.5853061079978943], [0.5712892413139343]], [[0.5846160054206848], [0.5708840489387512]], [[0.5846300721168518], [0.5708988308906555]]]\n",
      "actual value: y\n",
      "[[[0.5909090638160706], [0.47727271914482117]], [[0.6306818127632141], [0.6477272510528564]], [[0.5965909361839294], [0.5625]], [[0.7045454382896423], [0.6022727489471436]], [[0.5227272510528564], [0.6534090638160706]], [[0.7329545617103577], [0.6477272510528564]], [[0.6193181872367859], [0.5738636255264282]], [[0.5454545617103577], [0.5340909361839294]], [[0.5397727489471436], [0.4943181872367859]], [[0.6590909361839294], [0.5340909361839294]], [[0.4488636255264282], [0.5454545617103577]], [[0.5170454382896423], [0.5681818127632141]], [[0.6193181872367859], [0.5]], [[0.6136363744735718], [0.5795454382896423]], [[0.5397727489471436], [0.5]], [[0.6363636255264282], [0.5681818127632141]]]\n",
      "final loss: 0.0040\n"
     ]
    },
    {
     "name": "stderr",
     "output_type": "stream",
     "text": [
      "/Users/sharshe/Documents/TBN/run/scripts.py:413: UserWarning: std(): degrees of freedom is <= 0. Correction should be strictly less than the reduction factor (input numel divided by output numel). (Triggered internally at /Users/runner/work/_temp/anaconda/conda-bld/pytorch_1728928936609/work/aten/src/ATen/native/ReduceOps.cpp:1823.)\n",
      "  f.write(f\"  std: {grad.std():.4f}\\n\")\n",
      "/Users/sharshe/Documents/TBN/run/scripts.py:424: UserWarning: std(): degrees of freedom is <= 0. Correction should be strictly less than the reduction factor (input numel divided by output numel). (Triggered internally at /Users/runner/work/_temp/anaconda/conda-bld/pytorch_1728928936609/work/aten/src/ATen/native/ReduceOps.cpp:1823.)\n",
      "  f.write(f\"  std: {param.std().item():.4f}\\n\")\n"
     ]
    },
    {
     "data": {
      "image/png": "[encoded data removed]",
      "text/plain": [
       "<Figure size 640x480 with 1 Axes>"
      ]
     },
     "metadata": {},
     "output_type": "display_data"
    }
   ],
   "source": [
    "scripts.check_memory(model=model, dataloader=train_dataloader, batch_size=16, n_epochs=1000, lr=3e-4)"
   ]
  },
  {
   "cell_type": "code",
   "execution_count": null,
   "metadata": {},
   "outputs": [],
   "source": [
    "scripts.test_score(model=model, test_dataloader=test_dataloader, loss_fn=loss_fn)"
   ]
  },
  {
   "cell_type": "code",
   "execution_count": 231,
   "metadata": {},
   "outputs": [],
   "source": [
    "optimizer = optim.Adam(model.parameters(), lr=3e-4)\n",
    "scheduler = lr_scheduler.ReduceLROnPlateau(optimizer, mode='min', factor=0.3, patience=4)\n",
    "loss_fn = nn.HuberLoss(delta=0.1)"
   ]
  },
  {
   "cell_type": "code",
   "execution_count": 232,
   "metadata": {},
   "outputs": [
    {
     "data": {
      "text/html": [
       "Tracking run with wandb version 0.18.5"
      ],
      "text/plain": [
       "<IPython.core.display.HTML object>"
      ]
     },
     "metadata": {},
     "output_type": "display_data"
    },
    {
     "data": {
      "text/html": [
       "Run data is saved locally in <code>/Users/sharshe/Documents/TBN/wandb/run-20241026_001330-w2trro2l</code>"
      ],
      "text/plain": [
       "<IPython.core.display.HTML object>"
      ]
     },
     "metadata": {},
     "output_type": "display_data"
    },
    {
     "data": {
      "text/html": [
       "Syncing run <strong><a href='https://wandb.ai/sharshe/TBN/runs/w2trro2l' target=\"_blank\">lilac-universe-104</a></strong> to <a href='https://wandb.ai/sharshe/TBN' target=\"_blank\">Weights & Biases</a> (<a href='https://wandb.me/run' target=\"_blank\">docs</a>)<br/>"
      ],
      "text/plain": [
       "<IPython.core.display.HTML object>"
      ]
     },
     "metadata": {},
     "output_type": "display_data"
    },
    {
     "data": {
      "text/html": [
       " View project at <a href='https://wandb.ai/sharshe/TBN' target=\"_blank\">https://wandb.ai/sharshe/TBN</a>"
      ],
      "text/plain": [
       "<IPython.core.display.HTML object>"
      ]
     },
     "metadata": {},
     "output_type": "display_data"
    },
    {
     "data": {
      "text/html": [
       " View run at <a href='https://wandb.ai/sharshe/TBN/runs/w2trro2l' target=\"_blank\">https://wandb.ai/sharshe/TBN/runs/w2trro2l</a>"
      ],
      "text/plain": [
       "<IPython.core.display.HTML object>"
      ]
     },
     "metadata": {},
     "output_type": "display_data"
    },
    {
     "name": "stderr",
     "output_type": "stream",
     "text": [
      "\u001b[34m\u001b[1mwandb\u001b[0m: logging graph, to disable use `wandb.watch(log_graph=False)`\n"
     ]
    },
    {
     "name": "stdout",
     "output_type": "stream",
     "text": [
      "EPOCH 1 OF 100 | jackery | TRAIN MEAN LOSS: 0.003025 | VAL MEAN LOSS: 0.002331\n",
      "EPOCH 2 OF 100 | jackery | TRAIN MEAN LOSS: 0.002267 | VAL MEAN LOSS: 0.002704\n",
      "EPOCH 3 OF 100 | jackery | TRAIN MEAN LOSS: 0.002223 | VAL MEAN LOSS: 0.002467\n",
      "EPOCH 4 OF 100 | jackery | TRAIN MEAN LOSS: 0.002127 | VAL MEAN LOSS: 0.002054\n",
      "EPOCH 5 OF 100 | jackery | TRAIN MEAN LOSS: 0.002181 | VAL MEAN LOSS: 0.002056\n",
      "EPOCH 6 OF 100 | jackery | TRAIN MEAN LOSS: 0.002136 | VAL MEAN LOSS: 0.001964\n",
      "EPOCH 7 OF 100 | jackery | TRAIN MEAN LOSS: 0.002129 | VAL MEAN LOSS: 0.002022\n",
      "EPOCH 8 OF 100 | jackery | TRAIN MEAN LOSS: 0.002139 | VAL MEAN LOSS: 0.001983\n",
      "EPOCH 9 OF 100 | jackery | TRAIN MEAN LOSS: 0.002119 | VAL MEAN LOSS: 0.002042\n",
      "EPOCH 10 OF 100 | jackery | TRAIN MEAN LOSS: 0.002102 | VAL MEAN LOSS: 0.002642\n",
      "EPOCH 11 OF 100 | jackery | TRAIN MEAN LOSS: 0.002109 | VAL MEAN LOSS: 0.001969\n",
      "EPOCH 12 OF 100 | jackery | TRAIN MEAN LOSS: 0.002032 | VAL MEAN LOSS: 0.001974\n",
      "EPOCH 13 OF 100 | jackery | TRAIN MEAN LOSS: 0.002032 | VAL MEAN LOSS: 0.002064\n",
      "EPOCH 14 OF 100 | jackery | TRAIN MEAN LOSS: 0.002039 | VAL MEAN LOSS: 0.002067\n",
      "EPOCH 15 OF 100 | jackery | TRAIN MEAN LOSS: 0.002041 | VAL MEAN LOSS: 0.001951\n",
      "EPOCH 16 OF 100 | jackery | TRAIN MEAN LOSS: 0.002026 | VAL MEAN LOSS: 0.001955\n",
      "EPOCH 17 OF 100 | jackery | TRAIN MEAN LOSS: 0.002036 | VAL MEAN LOSS: 0.002008\n",
      "EPOCH 18 OF 100 | jackery | TRAIN MEAN LOSS: 0.002038 | VAL MEAN LOSS: 0.001984\n",
      "EPOCH 19 OF 100 | jackery | TRAIN MEAN LOSS: 0.002025 | VAL MEAN LOSS: 0.002030\n",
      "EPOCH 20 OF 100 | jackery | TRAIN MEAN LOSS: 0.002026 | VAL MEAN LOSS: 0.001944\n",
      "EPOCH 21 OF 100 | jackery | TRAIN MEAN LOSS: 0.002027 | VAL MEAN LOSS: 0.001974\n",
      "EPOCH 22 OF 100 | jackery | TRAIN MEAN LOSS: 0.002032 | VAL MEAN LOSS: 0.001982\n",
      "EPOCH 23 OF 100 | jackery | TRAIN MEAN LOSS: 0.002025 | VAL MEAN LOSS: 0.001978\n",
      "EPOCH 24 OF 100 | jackery | TRAIN MEAN LOSS: 0.002028 | VAL MEAN LOSS: 0.001945\n",
      "EPOCH 25 OF 100 | jackery | TRAIN MEAN LOSS: 0.002024 | VAL MEAN LOSS: 0.001953\n",
      "EPOCH 26 OF 100 | jackery | TRAIN MEAN LOSS: 0.001998 | VAL MEAN LOSS: 0.001946\n",
      "EPOCH 27 OF 100 | jackery | TRAIN MEAN LOSS: 0.002003 | VAL MEAN LOSS: 0.001937\n",
      "EPOCH 28 OF 100 | jackery | TRAIN MEAN LOSS: 0.002002 | VAL MEAN LOSS: 0.001953\n",
      "EPOCH 29 OF 100 | jackery | TRAIN MEAN LOSS: 0.002002 | VAL MEAN LOSS: 0.001940\n",
      "EPOCH 30 OF 100 | jackery | TRAIN MEAN LOSS: 0.002000 | VAL MEAN LOSS: 0.001947\n",
      "EPOCH 31 OF 100 | jackery | TRAIN MEAN LOSS: 0.002002 | VAL MEAN LOSS: 0.001968\n",
      "EPOCH 32 OF 100 | jackery | TRAIN MEAN LOSS: 0.002005 | VAL MEAN LOSS: 0.001952\n",
      "EPOCH 33 OF 100 | jackery | TRAIN MEAN LOSS: 0.001992 | VAL MEAN LOSS: 0.001940\n",
      "EPOCH 34 OF 100 | jackery | TRAIN MEAN LOSS: 0.001991 | VAL MEAN LOSS: 0.001945\n",
      "EPOCH 35 OF 100 | jackery | TRAIN MEAN LOSS: 0.001993 | VAL MEAN LOSS: 0.001954\n",
      "EPOCH 36 OF 100 | jackery | TRAIN MEAN LOSS: 0.001992 | VAL MEAN LOSS: 0.001956\n",
      "EPOCH 37 OF 100 | jackery | TRAIN MEAN LOSS: 0.001991 | VAL MEAN LOSS: 0.001936\n",
      "EPOCH 38 OF 100 | jackery | TRAIN MEAN LOSS: 0.001993 | VAL MEAN LOSS: 0.001937\n",
      "EPOCH 39 OF 100 | jackery | TRAIN MEAN LOSS: 0.001993 | VAL MEAN LOSS: 0.001938\n",
      "EPOCH 40 OF 100 | jackery | TRAIN MEAN LOSS: 0.001992 | VAL MEAN LOSS: 0.001949\n",
      "EPOCH 41 OF 100 | jackery | TRAIN MEAN LOSS: 0.001990 | VAL MEAN LOSS: 0.001933\n",
      "EPOCH 42 OF 100 | jackery | TRAIN MEAN LOSS: 0.001990 | VAL MEAN LOSS: 0.001949\n",
      "EPOCH 43 OF 100 | jackery | TRAIN MEAN LOSS: 0.001988 | VAL MEAN LOSS: 0.001947\n",
      "EPOCH 44 OF 100 | jackery | TRAIN MEAN LOSS: 0.001992 | VAL MEAN LOSS: 0.001937\n",
      "EPOCH 45 OF 100 | jackery | TRAIN MEAN LOSS: 0.001990 | VAL MEAN LOSS: 0.001933\n",
      "EPOCH 46 OF 100 | jackery | TRAIN MEAN LOSS: 0.001991 | VAL MEAN LOSS: 0.001953\n",
      "EPOCH 47 OF 100 | jackery | TRAIN MEAN LOSS: 0.001990 | VAL MEAN LOSS: 0.001938\n",
      "EPOCH 48 OF 100 | jackery | TRAIN MEAN LOSS: 0.001988 | VAL MEAN LOSS: 0.001949\n",
      "EPOCH 49 OF 100 | jackery | TRAIN MEAN LOSS: 0.001988 | VAL MEAN LOSS: 0.001942\n",
      "EPOCH 50 OF 100 | jackery | TRAIN MEAN LOSS: 0.001989 | VAL MEAN LOSS: 0.001935\n",
      "EPOCH 51 OF 100 | jackery | TRAIN MEAN LOSS: 0.001988 | VAL MEAN LOSS: 0.001943\n",
      "EPOCH 52 OF 100 | jackery | TRAIN MEAN LOSS: 0.001988 | VAL MEAN LOSS: 0.001949\n",
      "EPOCH 53 OF 100 | jackery | TRAIN MEAN LOSS: 0.001988 | VAL MEAN LOSS: 0.001939\n",
      "EPOCH 54 OF 100 | jackery | TRAIN MEAN LOSS: 0.001987 | VAL MEAN LOSS: 0.001938\n",
      "EPOCH 55 OF 100 | jackery | TRAIN MEAN LOSS: 0.001989 | VAL MEAN LOSS: 0.001942\n",
      "EPOCH 56 OF 100 | jackery | TRAIN MEAN LOSS: 0.001988 | VAL MEAN LOSS: 0.001944\n",
      "EPOCH 57 OF 100 | jackery | TRAIN MEAN LOSS: 0.001986 | VAL MEAN LOSS: 0.001943\n",
      "EPOCH 58 OF 100 | jackery | TRAIN MEAN LOSS: 0.001987 | VAL MEAN LOSS: 0.001954\n",
      "EPOCH 59 OF 100 | jackery | TRAIN MEAN LOSS: 0.001986 | VAL MEAN LOSS: 0.001933\n",
      "EPOCH 60 OF 100 | jackery | TRAIN MEAN LOSS: 0.001988 | VAL MEAN LOSS: 0.001938\n",
      "EPOCH 61 OF 100 | jackery | TRAIN MEAN LOSS: 0.001987 | VAL MEAN LOSS: 0.001942\n",
      "EPOCH 62 OF 100 | jackery | TRAIN MEAN LOSS: 0.001988 | VAL MEAN LOSS: 0.001942\n",
      "EPOCH 63 OF 100 | jackery | TRAIN MEAN LOSS: 0.001988 | VAL MEAN LOSS: 0.001936\n",
      "EPOCH 64 OF 100 | jackery | TRAIN MEAN LOSS: 0.001989 | VAL MEAN LOSS: 0.001947\n",
      "EPOCH 65 OF 100 | jackery | TRAIN MEAN LOSS: 0.001987 | VAL MEAN LOSS: 0.001938\n",
      "EPOCH 66 OF 100 | jackery | TRAIN MEAN LOSS: 0.001986 | VAL MEAN LOSS: 0.001936\n",
      "EPOCH 67 OF 100 | jackery | TRAIN MEAN LOSS: 0.001987 | VAL MEAN LOSS: 0.001945\n",
      "EPOCH 68 OF 100 | jackery | TRAIN MEAN LOSS: 0.001987 | VAL MEAN LOSS: 0.001933\n",
      "EPOCH 69 OF 100 | jackery | TRAIN MEAN LOSS: 0.001987 | VAL MEAN LOSS: 0.001939\n",
      "EPOCH 70 OF 100 | jackery | TRAIN MEAN LOSS: 0.001988 | VAL MEAN LOSS: 0.001951\n",
      "EPOCH 71 OF 100 | jackery | TRAIN MEAN LOSS: 0.001988 | VAL MEAN LOSS: 0.001949\n",
      "EPOCH 72 OF 100 | jackery | TRAIN MEAN LOSS: 0.001987 | VAL MEAN LOSS: 0.001939\n",
      "EPOCH 73 OF 100 | jackery | TRAIN MEAN LOSS: 0.001988 | VAL MEAN LOSS: 0.001943\n",
      "EPOCH 74 OF 100 | jackery | TRAIN MEAN LOSS: 0.001987 | VAL MEAN LOSS: 0.001942\n",
      "EPOCH 75 OF 100 | jackery | TRAIN MEAN LOSS: 0.001987 | VAL MEAN LOSS: 0.001948\n",
      "EPOCH 76 OF 100 | jackery | TRAIN MEAN LOSS: 0.001988 | VAL MEAN LOSS: 0.001936\n",
      "EPOCH 77 OF 100 | jackery | TRAIN MEAN LOSS: 0.001988 | VAL MEAN LOSS: 0.001945\n",
      "EPOCH 78 OF 100 | jackery | TRAIN MEAN LOSS: 0.001988 | VAL MEAN LOSS: 0.001938\n",
      "EPOCH 79 OF 100 | jackery | TRAIN MEAN LOSS: 0.001987 | VAL MEAN LOSS: 0.001944\n",
      "EPOCH 80 OF 100 | jackery | TRAIN MEAN LOSS: 0.001987 | VAL MEAN LOSS: 0.001942\n",
      "EPOCH 81 OF 100 | jackery | TRAIN MEAN LOSS: 0.001988 | VAL MEAN LOSS: 0.001933\n",
      "EPOCH 82 OF 100 | jackery | TRAIN MEAN LOSS: 0.001989 | VAL MEAN LOSS: 0.001943\n",
      "EPOCH 83 OF 100 | jackery | TRAIN MEAN LOSS: 0.001988 | VAL MEAN LOSS: 0.001936\n",
      "EPOCH 84 OF 100 | jackery | TRAIN MEAN LOSS: 0.001989 | VAL MEAN LOSS: 0.001936\n",
      "EPOCH 85 OF 100 | jackery | TRAIN MEAN LOSS: 0.001987 | VAL MEAN LOSS: 0.001945\n",
      "EPOCH 86 OF 100 | jackery | TRAIN MEAN LOSS: 0.001987 | VAL MEAN LOSS: 0.001941\n",
      "EPOCH 87 OF 100 | jackery | TRAIN MEAN LOSS: 0.001988 | VAL MEAN LOSS: 0.001947\n",
      "EPOCH 88 OF 100 | jackery | TRAIN MEAN LOSS: 0.001987 | VAL MEAN LOSS: 0.001938\n",
      "EPOCH 89 OF 100 | jackery | TRAIN MEAN LOSS: 0.001986 | VAL MEAN LOSS: 0.001940\n",
      "EPOCH 90 OF 100 | jackery | TRAIN MEAN LOSS: 0.001988 | VAL MEAN LOSS: 0.001937\n",
      "EPOCH 91 OF 100 | jackery | TRAIN MEAN LOSS: 0.001987 | VAL MEAN LOSS: 0.001935\n",
      "EPOCH 92 OF 100 | jackery | TRAIN MEAN LOSS: 0.001987 | VAL MEAN LOSS: 0.001939\n",
      "EPOCH 93 OF 100 | jackery | TRAIN MEAN LOSS: 0.001986 | VAL MEAN LOSS: 0.001940\n",
      "EPOCH 94 OF 100 | jackery | TRAIN MEAN LOSS: 0.001988 | VAL MEAN LOSS: 0.001935\n",
      "EPOCH 95 OF 100 | jackery | TRAIN MEAN LOSS: 0.001986 | VAL MEAN LOSS: 0.001960\n",
      "EPOCH 96 OF 100 | jackery | TRAIN MEAN LOSS: 0.001987 | VAL MEAN LOSS: 0.001943\n",
      "EPOCH 97 OF 100 | jackery | TRAIN MEAN LOSS: 0.001987 | VAL MEAN LOSS: 0.001932\n",
      "EPOCH 98 OF 100 | jackery | TRAIN MEAN LOSS: 0.001989 | VAL MEAN LOSS: 0.001945\n",
      "EPOCH 99 OF 100 | jackery | TRAIN MEAN LOSS: 0.001986 | VAL MEAN LOSS: 0.001937\n",
      "EPOCH 100 OF 100 | jackery | TRAIN MEAN LOSS: 0.001988 | VAL MEAN LOSS: 0.001936\n"
     ]
    },
    {
     "data": {
      "image/png": "[encoded data removed]",
      "text/plain": [
       "<Figure size 640x480 with 1 Axes>"
      ]
     },
     "metadata": {},
     "output_type": "display_data"
    },
    {
     "name": "stdout",
     "output_type": "stream",
     "text": [
      "TEST MEAN LOSS: 0.001954\n",
      "TEST ACCURACY: 0.625254\n"
     ]
    },
    {
     "data": {
      "text/html": [
       "<style>\n",
       "    table.wandb td:nth-child(1) { padding: 0 10px; text-align: left ; width: auto;} td:nth-child(2) {text-align: left ; width: 100%}\n",
       "    .wandb-row { display: flex; flex-direction: row; flex-wrap: wrap; justify-content: flex-start; width: 100% }\n",
       "    .wandb-col { display: flex; flex-direction: column; flex-basis: 100%; flex: 1; padding: 10px; }\n",
       "    </style>\n",
       "<div class=\"wandb-row\"><div class=\"wandb-col\"><h3>Run history:</h3><br/><table class=\"wandb\"><tr><td>learning_rate</td><td>█████▃▃▃▃▃▂▁▁▁▁▁▁▁▁▁▁▁▁▁▁▁▁▁▁▁▁▁▁▁▁▁▁▁▁▁</td></tr><tr><td>test_accuracy</td><td>▁</td></tr><tr><td>test_mean_loss</td><td>▁</td></tr><tr><td>train_mean_loss</td><td>█▅▅▄▂▂▂▂▂▂▁▁▁▁▁▁▁▁▁▁▁▁▁▁▁▁▁▁▁▁▁▁▁▁▁▁▁▁▁▁</td></tr><tr><td>val_mean_loss</td><td>▅█▆▂▁▁▇▂▁▁▁▁▁▁▁▁▁▁▁▁▁▁▁▁▁▁▁▁▁▁▁▁▁▁▁▁▁▁▁▁</td></tr></table><br/></div><div class=\"wandb-col\"><h3>Run summary:</h3><br/><table class=\"wandb\"><tr><td>learning_rate</td><td>0.0</td></tr><tr><td>test_accuracy</td><td>0.62525</td></tr><tr><td>test_mean_loss</td><td>0.00195</td></tr><tr><td>train_mean_loss</td><td>0.00199</td></tr><tr><td>val_mean_loss</td><td>0.00194</td></tr></table><br/></div></div>"
      ],
      "text/plain": [
       "<IPython.core.display.HTML object>"
      ]
     },
     "metadata": {},
     "output_type": "display_data"
    },
    {
     "data": {
      "text/html": [
       " View run <strong style=\"color:#cdcd00\">lilac-universe-104</strong> at: <a href='https://wandb.ai/sharshe/TBN/runs/w2trro2l' target=\"_blank\">https://wandb.ai/sharshe/TBN/runs/w2trro2l</a><br/> View project at: <a href='https://wandb.ai/sharshe/TBN' target=\"_blank\">https://wandb.ai/sharshe/TBN</a><br/>Synced 5 W&B file(s), 0 media file(s), 2 artifact file(s) and 1 other file(s)"
      ],
      "text/plain": [
       "<IPython.core.display.HTML object>"
      ]
     },
     "metadata": {},
     "output_type": "display_data"
    },
    {
     "data": {
      "text/html": [
       "Find logs at: <code>./wandb/run-20241026_001330-w2trro2l/logs</code>"
      ],
      "text/plain": [
       "<IPython.core.display.HTML object>"
      ]
     },
     "metadata": {},
     "output_type": "display_data"
    }
   ],
   "source": [
    "scripts.train_test(model=model, train_dataloader=train_dataloader, val_dataloader=val_dataloader, test_dataloader=test_dataloader, cfg_dict=cfg_dict, loss_fn=loss_fn, optimizer=optimizer, scheduler=scheduler)"
   ]
  }
 ],
 "metadata": {
  "kernelspec": {
   "display_name": "TBN",
   "language": "python",
   "name": "python3"
  },
  "language_info": {
   "codemirror_mode": {
    "name": "ipython",
    "version": 3
   },
   "file_extension": ".py",
   "mimetype": "text/x-python",
   "name": "python",
   "nbconvert_exporter": "python",
   "pygments_lexer": "ipython3",
   "version": "3.11.10"
  }
 },
 "nbformat": 4,
 "nbformat_minor": 2
}
