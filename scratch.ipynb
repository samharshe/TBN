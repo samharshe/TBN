{
 "cells": [
  {
   "cell_type": "code",
   "execution_count": 1,
   "metadata": {},
   "outputs": [],
   "source": [
    "%load_ext autoreload\n",
    "%autoreload 2"
   ]
  },
  {
   "cell_type": "code",
   "execution_count": 49,
   "metadata": {},
   "outputs": [],
   "source": [
    "from src.data.data import get_engineered_dataloaders, get_simplified_dataloaders, get_festive_dataloaders\n",
    "from run.scripts import train_test, check_memory\n",
    "from torch.nn import MSELoss\n",
    "from torch.optim.lr_scheduler import ReduceLROnPlateau, OneCycleLR\n",
    "from torch.optim import Adam\n",
    "import torch\n",
    "\n",
    "from src.ml.model import EpochPlayerModel, MckinneyPlayerModel\n",
    "torch.manual_seed(2002);"
   ]
  },
  {
   "cell_type": "code",
   "execution_count": 57,
   "metadata": {},
   "outputs": [
    {
     "name": "stderr",
     "output_type": "stream",
     "text": [
      "/Users/sharshe/Documents/TBN/src/data/data.py:416: FutureWarning: You are using `torch.load` with `weights_only=False` (the current default value), which uses the default pickle module implicitly. It is possible to construct malicious pickle data which will execute arbitrary code during unpickling (See https://github.com/pytorch/pytorch/blob/main/SECURITY.md#untrusted-models for more details). In a future release, the default value for `weights_only` will be flipped to `True`. This limits the functions that could be executed during unpickling. Arbitrary objects will no longer be allowed to be loaded via this mode unless they are explicitly allowlisted by the user via `torch.serialization.add_safe_globals`. We recommend you start setting `weights_only=True` for any use case where you don't have full control of the loaded file. Please open an issue on GitHub for any issues related to this experimental feature.\n",
      "  try:\n"
     ]
    }
   ],
   "source": [
    "train_dataloader, val_dataloader, test_dataloader = get_festive_dataloaders(name='elephant', train_split=0.8, val_split=0.1, test_split=0.1, batch_size=32)"
   ]
  },
  {
   "cell_type": "code",
   "execution_count": 58,
   "metadata": {},
   "outputs": [
    {
     "name": "stdout",
     "output_type": "stream",
     "text": [
      "torch.Size([25])\n",
      "torch.Size([3])\n",
      "torch.Size([24])\n",
      "torch.Size([4])\n",
      "torch.Size([20])\n",
      "torch.Size([8])\n",
      "torch.Size([28])\n",
      "torch.Size([0])\n",
      "torch.Size([24])\n",
      "torch.Size([4])\n",
      "torch.Size([26])\n",
      "torch.Size([2])\n",
      "torch.Size([24])\n",
      "torch.Size([4])\n",
      "torch.Size([26])\n",
      "torch.Size([2])\n",
      "torch.Size([24])\n",
      "torch.Size([4])\n",
      "torch.Size([24])\n",
      "torch.Size([4])\n",
      "torch.Size([26])\n",
      "torch.Size([2])\n",
      "torch.Size([26])\n",
      "torch.Size([2])\n",
      "torch.Size([24])\n",
      "torch.Size([4])\n",
      "torch.Size([24])\n",
      "torch.Size([4])\n",
      "torch.Size([27])\n",
      "torch.Size([1])\n",
      "torch.Size([22])\n",
      "torch.Size([6])\n",
      "torch.Size([24])\n",
      "torch.Size([4])\n",
      "torch.Size([23])\n",
      "torch.Size([5])\n",
      "torch.Size([24])\n",
      "torch.Size([4])\n",
      "torch.Size([22])\n",
      "torch.Size([6])\n",
      "torch.Size([24])\n",
      "torch.Size([4])\n",
      "torch.Size([24])\n",
      "torch.Size([4])\n",
      "torch.Size([26])\n",
      "torch.Size([2])\n",
      "torch.Size([24])\n",
      "torch.Size([4])\n",
      "torch.Size([24])\n",
      "torch.Size([4])\n",
      "torch.Size([22])\n",
      "torch.Size([6])\n",
      "torch.Size([22])\n",
      "torch.Size([6])\n",
      "torch.Size([22])\n",
      "torch.Size([6])\n",
      "torch.Size([25])\n",
      "torch.Size([3])\n",
      "torch.Size([23])\n",
      "torch.Size([5])\n",
      "torch.Size([23])\n",
      "torch.Size([5])\n",
      "torch.Size([24])\n",
      "torch.Size([4])\n"
     ]
    }
   ],
   "source": [
    "x, y = next(iter(train_dataloader))"
   ]
  },
  {
   "cell_type": "code",
   "execution_count": 44,
   "metadata": {},
   "outputs": [],
   "source": [
    "cfg_dict = {\n",
    "    'name': 'george',\n",
    "    'dataset_name': 'elephant',\n",
    "    'x_version': 'players',\n",
    "    'y_version': 'score',\n",
    "    'batch_size': 16,\n",
    "    'train_split': 0.8,\n",
    "    'val_split': 0.1,\n",
    "    'test_split': 0.1,\n",
    "    'n_epochs': 100,\n",
    "    'loss_fn': 'MSELoss',\n",
    "    'optimizer': 'Adam',\n",
    "    'scheduler': 'ReduceLROnPlateau',\n",
    "    'model': 'EpochPlayerModel',\n",
    "    'd_mod': 32\n",
    "}"
   ]
  },
  {
   "cell_type": "code",
   "execution_count": 45,
   "metadata": {},
   "outputs": [],
   "source": [
    "model = MckinneyPlayerModel(d_in=10, d_out=2, d_mod=cfg_dict['d_mod'])"
   ]
  },
  {
   "cell_type": "code",
   "execution_count": 39,
   "metadata": {},
   "outputs": [
    {
     "name": "stdout",
     "output_type": "stream",
     "text": [
      "final prediction: model(x)\n",
      "[[0.5599997639656067, 0.571022629737854], [0.5599998235702515, 0.571022629737854]]\n",
      "actual value: y\n",
      "[[0.508571445941925, 0.5738636255264282], [0.6114285588264465, 0.5681818127632141]]\n",
      "final loss: 0.0013\n"
     ]
    },
    {
     "data": {
      "image/png": "[encoded data removed]",
      "text/plain": [
       "<Figure size 640x480 with 1 Axes>"
      ]
     },
     "metadata": {},
     "output_type": "display_data"
    }
   ],
   "source": [
    "check_memory(model=model, dataloader=train_dataloader, n_epochs=1000, batch_size=2, lr=3e-4)"
   ]
  },
  {
   "cell_type": "code",
   "execution_count": 46,
   "metadata": {},
   "outputs": [],
   "source": [
    "optimizer = Adam(model.parameters(), lr=3e-4)\n",
    "loss_fn = MSELoss()\n",
    "# scheduler = OneCycleLR(\n",
    "#     optimizer,\n",
    "#     max_lr=1e-3,\n",
    "#     epochs=cfg_dict['n_epochs'],\n",
    "#     steps_per_epoch=len(train_dataloader),\n",
    "#     pct_start=0.3,\n",
    "#     div_factor=25,\n",
    "#     final_div_factor=10000,\n",
    "# )\n",
    "scheduler = ReduceLROnPlateau(optimizer, mode='min', factor=0.3, patience=4)\n",
    "n_epochs = cfg_dict['n_epochs']"
   ]
  },
  {
   "cell_type": "code",
   "execution_count": 47,
   "metadata": {},
   "outputs": [
    {
     "data": {
      "text/html": [
       "Tracking run with wandb version 0.18.5"
      ],
      "text/plain": [
       "<IPython.core.display.HTML object>"
      ]
     },
     "metadata": {},
     "output_type": "display_data"
    },
    {
     "data": {
      "text/html": [
       "Run data is saved locally in <code>/Users/sharshe/Documents/TBN/wandb/run-20241024_235503-x53x7erc</code>"
      ],
      "text/plain": [
       "<IPython.core.display.HTML object>"
      ]
     },
     "metadata": {},
     "output_type": "display_data"
    },
    {
     "data": {
      "text/html": [
       "Syncing run <strong><a href='https://wandb.ai/sharshe/TBN/runs/x53x7erc' target=\"_blank\">resilient-wildflower-86</a></strong> to <a href='https://wandb.ai/sharshe/TBN' target=\"_blank\">Weights & Biases</a> (<a href='https://wandb.me/run' target=\"_blank\">docs</a>)<br/>"
      ],
      "text/plain": [
       "<IPython.core.display.HTML object>"
      ]
     },
     "metadata": {},
     "output_type": "display_data"
    },
    {
     "data": {
      "text/html": [
       " View project at <a href='https://wandb.ai/sharshe/TBN' target=\"_blank\">https://wandb.ai/sharshe/TBN</a>"
      ],
      "text/plain": [
       "<IPython.core.display.HTML object>"
      ]
     },
     "metadata": {},
     "output_type": "display_data"
    },
    {
     "data": {
      "text/html": [
       " View run at <a href='https://wandb.ai/sharshe/TBN/runs/x53x7erc' target=\"_blank\">https://wandb.ai/sharshe/TBN/runs/x53x7erc</a>"
      ],
      "text/plain": [
       "<IPython.core.display.HTML object>"
      ]
     },
     "metadata": {},
     "output_type": "display_data"
    },
    {
     "name": "stderr",
     "output_type": "stream",
     "text": [
      "\u001b[34m\u001b[1mwandb\u001b[0m: logging graph, to disable use `wandb.watch(log_graph=False)`\n"
     ]
    },
    {
     "name": "stdout",
     "output_type": "stream",
     "text": [
      "EPOCH 1 OF 100 | george | TRAIN MEAN LOSS: 0.008117 | VAL MEAN LOSS: 0.006275\n",
      "EPOCH 2 OF 100 | george | TRAIN MEAN LOSS: 0.006387 | VAL MEAN LOSS: 0.006062\n",
      "EPOCH 3 OF 100 | george | TRAIN MEAN LOSS: 0.006372 | VAL MEAN LOSS: 0.006364\n",
      "EPOCH 4 OF 100 | george | TRAIN MEAN LOSS: 0.006396 | VAL MEAN LOSS: 0.006440\n",
      "EPOCH 5 OF 100 | george | TRAIN MEAN LOSS: 0.006337 | VAL MEAN LOSS: 0.006780\n",
      "EPOCH 6 OF 100 | george | TRAIN MEAN LOSS: 0.006353 | VAL MEAN LOSS: 0.006028\n",
      "EPOCH 7 OF 100 | george | TRAIN MEAN LOSS: 0.006315 | VAL MEAN LOSS: 0.006024\n",
      "EPOCH 8 OF 100 | george | TRAIN MEAN LOSS: 0.006311 | VAL MEAN LOSS: 0.006488\n",
      "EPOCH 9 OF 100 | george | TRAIN MEAN LOSS: 0.006116 | VAL MEAN LOSS: 0.006153\n",
      "EPOCH 10 OF 100 | george | TRAIN MEAN LOSS: 0.005957 | VAL MEAN LOSS: 0.006363\n",
      "EPOCH 11 OF 100 | george | TRAIN MEAN LOSS: 0.005870 | VAL MEAN LOSS: 0.005712\n",
      "EPOCH 12 OF 100 | george | TRAIN MEAN LOSS: 0.005904 | VAL MEAN LOSS: 0.005923\n",
      "EPOCH 13 OF 100 | george | TRAIN MEAN LOSS: 0.005876 | VAL MEAN LOSS: 0.005753\n",
      "EPOCH 14 OF 100 | george | TRAIN MEAN LOSS: 0.005870 | VAL MEAN LOSS: 0.005628\n",
      "EPOCH 15 OF 100 | george | TRAIN MEAN LOSS: 0.005856 | VAL MEAN LOSS: 0.005823\n",
      "EPOCH 16 OF 100 | george | TRAIN MEAN LOSS: 0.005876 | VAL MEAN LOSS: 0.005794\n",
      "EPOCH 17 OF 100 | george | TRAIN MEAN LOSS: 0.005852 | VAL MEAN LOSS: 0.005630\n",
      "EPOCH 18 OF 100 | george | TRAIN MEAN LOSS: 0.005852 | VAL MEAN LOSS: 0.005657\n",
      "EPOCH 19 OF 100 | george | TRAIN MEAN LOSS: 0.005816 | VAL MEAN LOSS: 0.005628\n",
      "EPOCH 20 OF 100 | george | TRAIN MEAN LOSS: 0.005732 | VAL MEAN LOSS: 0.005642\n",
      "EPOCH 21 OF 100 | george | TRAIN MEAN LOSS: 0.005727 | VAL MEAN LOSS: 0.005685\n",
      "EPOCH 22 OF 100 | george | TRAIN MEAN LOSS: 0.005735 | VAL MEAN LOSS: 0.005639\n",
      "EPOCH 23 OF 100 | george | TRAIN MEAN LOSS: 0.005729 | VAL MEAN LOSS: 0.005607\n",
      "EPOCH 24 OF 100 | george | TRAIN MEAN LOSS: 0.005735 | VAL MEAN LOSS: 0.005758\n",
      "EPOCH 25 OF 100 | george | TRAIN MEAN LOSS: 0.005730 | VAL MEAN LOSS: 0.005654\n",
      "EPOCH 26 OF 100 | george | TRAIN MEAN LOSS: 0.005719 | VAL MEAN LOSS: 0.005864\n",
      "EPOCH 27 OF 100 | george | TRAIN MEAN LOSS: 0.005733 | VAL MEAN LOSS: 0.005632\n",
      "EPOCH 28 OF 100 | george | TRAIN MEAN LOSS: 0.005710 | VAL MEAN LOSS: 0.005690\n",
      "EPOCH 29 OF 100 | george | TRAIN MEAN LOSS: 0.005670 | VAL MEAN LOSS: 0.005585\n",
      "EPOCH 30 OF 100 | george | TRAIN MEAN LOSS: 0.005671 | VAL MEAN LOSS: 0.005623\n",
      "EPOCH 31 OF 100 | george | TRAIN MEAN LOSS: 0.005669 | VAL MEAN LOSS: 0.005597\n",
      "EPOCH 32 OF 100 | george | TRAIN MEAN LOSS: 0.005659 | VAL MEAN LOSS: 0.005599\n",
      "EPOCH 33 OF 100 | george | TRAIN MEAN LOSS: 0.005661 | VAL MEAN LOSS: 0.005586\n",
      "EPOCH 34 OF 100 | george | TRAIN MEAN LOSS: 0.005674 | VAL MEAN LOSS: 0.005628\n",
      "EPOCH 35 OF 100 | george | TRAIN MEAN LOSS: 0.005637 | VAL MEAN LOSS: 0.005566\n",
      "EPOCH 36 OF 100 | george | TRAIN MEAN LOSS: 0.005636 | VAL MEAN LOSS: 0.005594\n",
      "EPOCH 37 OF 100 | george | TRAIN MEAN LOSS: 0.005643 | VAL MEAN LOSS: 0.005535\n",
      "EPOCH 38 OF 100 | george | TRAIN MEAN LOSS: 0.005642 | VAL MEAN LOSS: 0.005606\n",
      "EPOCH 39 OF 100 | george | TRAIN MEAN LOSS: 0.005633 | VAL MEAN LOSS: 0.005574\n",
      "EPOCH 40 OF 100 | george | TRAIN MEAN LOSS: 0.005632 | VAL MEAN LOSS: 0.005559\n",
      "EPOCH 41 OF 100 | george | TRAIN MEAN LOSS: 0.005629 | VAL MEAN LOSS: 0.005568\n",
      "EPOCH 42 OF 100 | george | TRAIN MEAN LOSS: 0.005627 | VAL MEAN LOSS: 0.005562\n",
      "EPOCH 43 OF 100 | george | TRAIN MEAN LOSS: 0.005621 | VAL MEAN LOSS: 0.005575\n",
      "EPOCH 44 OF 100 | george | TRAIN MEAN LOSS: 0.005630 | VAL MEAN LOSS: 0.005571\n",
      "EPOCH 45 OF 100 | george | TRAIN MEAN LOSS: 0.005624 | VAL MEAN LOSS: 0.005592\n",
      "EPOCH 46 OF 100 | george | TRAIN MEAN LOSS: 0.005612 | VAL MEAN LOSS: 0.005592\n",
      "EPOCH 47 OF 100 | george | TRAIN MEAN LOSS: 0.005621 | VAL MEAN LOSS: 0.005585\n",
      "EPOCH 48 OF 100 | george | TRAIN MEAN LOSS: 0.005615 | VAL MEAN LOSS: 0.005575\n",
      "EPOCH 49 OF 100 | george | TRAIN MEAN LOSS: 0.005625 | VAL MEAN LOSS: 0.005586\n",
      "EPOCH 50 OF 100 | george | TRAIN MEAN LOSS: 0.005615 | VAL MEAN LOSS: 0.005609\n",
      "EPOCH 51 OF 100 | george | TRAIN MEAN LOSS: 0.005621 | VAL MEAN LOSS: 0.005573\n",
      "EPOCH 52 OF 100 | george | TRAIN MEAN LOSS: 0.005618 | VAL MEAN LOSS: 0.005586\n",
      "EPOCH 53 OF 100 | george | TRAIN MEAN LOSS: 0.005618 | VAL MEAN LOSS: 0.005574\n",
      "EPOCH 54 OF 100 | george | TRAIN MEAN LOSS: 0.005620 | VAL MEAN LOSS: 0.005566\n",
      "EPOCH 55 OF 100 | george | TRAIN MEAN LOSS: 0.005615 | VAL MEAN LOSS: 0.005563\n",
      "EPOCH 56 OF 100 | george | TRAIN MEAN LOSS: 0.005618 | VAL MEAN LOSS: 0.005593\n",
      "EPOCH 57 OF 100 | george | TRAIN MEAN LOSS: 0.005616 | VAL MEAN LOSS: 0.005584\n",
      "EPOCH 58 OF 100 | george | TRAIN MEAN LOSS: 0.005611 | VAL MEAN LOSS: 0.005578\n",
      "EPOCH 59 OF 100 | george | TRAIN MEAN LOSS: 0.005619 | VAL MEAN LOSS: 0.005584\n",
      "EPOCH 60 OF 100 | george | TRAIN MEAN LOSS: 0.005613 | VAL MEAN LOSS: 0.005594\n",
      "EPOCH 61 OF 100 | george | TRAIN MEAN LOSS: 0.005627 | VAL MEAN LOSS: 0.005565\n",
      "EPOCH 62 OF 100 | george | TRAIN MEAN LOSS: 0.005621 | VAL MEAN LOSS: 0.005575\n",
      "EPOCH 63 OF 100 | george | TRAIN MEAN LOSS: 0.005620 | VAL MEAN LOSS: 0.005607\n",
      "EPOCH 64 OF 100 | george | TRAIN MEAN LOSS: 0.005618 | VAL MEAN LOSS: 0.005592\n",
      "EPOCH 65 OF 100 | george | TRAIN MEAN LOSS: 0.005615 | VAL MEAN LOSS: 0.005569\n",
      "EPOCH 66 OF 100 | george | TRAIN MEAN LOSS: 0.005618 | VAL MEAN LOSS: 0.005552\n",
      "EPOCH 67 OF 100 | george | TRAIN MEAN LOSS: 0.005616 | VAL MEAN LOSS: 0.005580\n",
      "EPOCH 68 OF 100 | george | TRAIN MEAN LOSS: 0.005617 | VAL MEAN LOSS: 0.005577\n",
      "EPOCH 69 OF 100 | george | TRAIN MEAN LOSS: 0.005617 | VAL MEAN LOSS: 0.005570\n",
      "EPOCH 70 OF 100 | george | TRAIN MEAN LOSS: 0.005622 | VAL MEAN LOSS: 0.005562\n",
      "EPOCH 71 OF 100 | george | TRAIN MEAN LOSS: 0.005620 | VAL MEAN LOSS: 0.005592\n",
      "EPOCH 72 OF 100 | george | TRAIN MEAN LOSS: 0.005612 | VAL MEAN LOSS: 0.005564\n",
      "EPOCH 73 OF 100 | george | TRAIN MEAN LOSS: 0.005615 | VAL MEAN LOSS: 0.005662\n",
      "EPOCH 74 OF 100 | george | TRAIN MEAN LOSS: 0.005623 | VAL MEAN LOSS: 0.005552\n",
      "EPOCH 75 OF 100 | george | TRAIN MEAN LOSS: 0.005618 | VAL MEAN LOSS: 0.005596\n",
      "EPOCH 76 OF 100 | george | TRAIN MEAN LOSS: 0.005623 | VAL MEAN LOSS: 0.005639\n",
      "EPOCH 77 OF 100 | george | TRAIN MEAN LOSS: 0.005622 | VAL MEAN LOSS: 0.005610\n",
      "EPOCH 78 OF 100 | george | TRAIN MEAN LOSS: 0.005630 | VAL MEAN LOSS: 0.005608\n",
      "EPOCH 79 OF 100 | george | TRAIN MEAN LOSS: 0.005614 | VAL MEAN LOSS: 0.005604\n",
      "EPOCH 80 OF 100 | george | TRAIN MEAN LOSS: 0.005622 | VAL MEAN LOSS: 0.005572\n",
      "EPOCH 81 OF 100 | george | TRAIN MEAN LOSS: 0.005615 | VAL MEAN LOSS: 0.005561\n",
      "EPOCH 82 OF 100 | george | TRAIN MEAN LOSS: 0.005608 | VAL MEAN LOSS: 0.005565\n",
      "EPOCH 83 OF 100 | george | TRAIN MEAN LOSS: 0.005620 | VAL MEAN LOSS: 0.005592\n",
      "EPOCH 84 OF 100 | george | TRAIN MEAN LOSS: 0.005624 | VAL MEAN LOSS: 0.005585\n",
      "EPOCH 85 OF 100 | george | TRAIN MEAN LOSS: 0.005611 | VAL MEAN LOSS: 0.005551\n",
      "EPOCH 86 OF 100 | george | TRAIN MEAN LOSS: 0.005614 | VAL MEAN LOSS: 0.005563\n",
      "EPOCH 87 OF 100 | george | TRAIN MEAN LOSS: 0.005616 | VAL MEAN LOSS: 0.005592\n",
      "EPOCH 88 OF 100 | george | TRAIN MEAN LOSS: 0.005613 | VAL MEAN LOSS: 0.005593\n",
      "EPOCH 89 OF 100 | george | TRAIN MEAN LOSS: 0.005624 | VAL MEAN LOSS: 0.005564\n",
      "EPOCH 90 OF 100 | george | TRAIN MEAN LOSS: 0.005617 | VAL MEAN LOSS: 0.005550\n",
      "EPOCH 91 OF 100 | george | TRAIN MEAN LOSS: 0.005613 | VAL MEAN LOSS: 0.005568\n",
      "EPOCH 92 OF 100 | george | TRAIN MEAN LOSS: 0.005616 | VAL MEAN LOSS: 0.005566\n",
      "EPOCH 93 OF 100 | george | TRAIN MEAN LOSS: 0.005628 | VAL MEAN LOSS: 0.005578\n",
      "EPOCH 94 OF 100 | george | TRAIN MEAN LOSS: 0.005621 | VAL MEAN LOSS: 0.005555\n",
      "EPOCH 95 OF 100 | george | TRAIN MEAN LOSS: 0.005626 | VAL MEAN LOSS: 0.005582\n",
      "EPOCH 96 OF 100 | george | TRAIN MEAN LOSS: 0.005622 | VAL MEAN LOSS: 0.005567\n",
      "EPOCH 97 OF 100 | george | TRAIN MEAN LOSS: 0.005610 | VAL MEAN LOSS: 0.005582\n",
      "EPOCH 98 OF 100 | george | TRAIN MEAN LOSS: 0.005614 | VAL MEAN LOSS: 0.005546\n",
      "EPOCH 99 OF 100 | george | TRAIN MEAN LOSS: 0.005624 | VAL MEAN LOSS: 0.005555\n",
      "EPOCH 100 OF 100 | george | TRAIN MEAN LOSS: 0.005618 | VAL MEAN LOSS: 0.005566\n"
     ]
    },
    {
     "data": {
      "image/png": "[encoded data removed]",
      "text/plain": [
       "<Figure size 640x480 with 1 Axes>"
      ]
     },
     "metadata": {},
     "output_type": "display_data"
    },
    {
     "name": "stdout",
     "output_type": "stream",
     "text": [
      "TEST MEAN LOSS: 0.005665\n",
      "TEST ACCURACY: 0.590386\n"
     ]
    },
    {
     "data": {
      "text/html": [
       "<style>\n",
       "    table.wandb td:nth-child(1) { padding: 0 10px; text-align: left ; width: auto;} td:nth-child(2) {text-align: left ; width: 100%}\n",
       "    .wandb-row { display: flex; flex-direction: row; flex-wrap: wrap; justify-content: flex-start; width: 100% }\n",
       "    .wandb-col { display: flex; flex-direction: column; flex-basis: 100%; flex: 1; padding: 10px; }\n",
       "    </style>\n",
       "<div class=\"wandb-row\"><div class=\"wandb-col\"><h3>Run history:</h3><br/><table class=\"wandb\"><tr><td>learning_rate</td><td>████▃▃▃▃▂▂▂▂▁▁▁▁▁▁▁▁▁▁▁▁▁▁▁▁▁▁▁▁▁▁▁▁▁▁▁▁</td></tr><tr><td>test_accuracy</td><td>▁</td></tr><tr><td>test_mean_loss</td><td>▁</td></tr><tr><td>train_mean_loss</td><td>█▃▃▃▂▁▁▁▁▁▁▁▁▁▁▁▁▁▁▁▁▁▁▁▁▁▁▁▁▁▁▁▁▁▁▁▁▁▁▁</td></tr><tr><td>val_mean_loss</td><td>▅▄█▄▆▂▃▂▂▂▃▂▁▁▁▁▁▁▁▁▁▁▁▁▁▁▁▁▁▁▁▁▁▁▁▁▁▁▁▁</td></tr></table><br/></div><div class=\"wandb-col\"><h3>Run summary:</h3><br/><table class=\"wandb\"><tr><td>learning_rate</td><td>0.0</td></tr><tr><td>test_accuracy</td><td>0.59039</td></tr><tr><td>test_mean_loss</td><td>0.00567</td></tr><tr><td>train_mean_loss</td><td>0.00562</td></tr><tr><td>val_mean_loss</td><td>0.00557</td></tr></table><br/></div></div>"
      ],
      "text/plain": [
       "<IPython.core.display.HTML object>"
      ]
     },
     "metadata": {},
     "output_type": "display_data"
    },
    {
     "data": {
      "text/html": [
       " View run <strong style=\"color:#cdcd00\">resilient-wildflower-86</strong> at: <a href='https://wandb.ai/sharshe/TBN/runs/x53x7erc' target=\"_blank\">https://wandb.ai/sharshe/TBN/runs/x53x7erc</a><br/> View project at: <a href='https://wandb.ai/sharshe/TBN' target=\"_blank\">https://wandb.ai/sharshe/TBN</a><br/>Synced 5 W&B file(s), 0 media file(s), 2 artifact file(s) and 1 other file(s)"
      ],
      "text/plain": [
       "<IPython.core.display.HTML object>"
      ]
     },
     "metadata": {},
     "output_type": "display_data"
    },
    {
     "data": {
      "text/html": [
       "Find logs at: <code>./wandb/run-20241024_235503-x53x7erc/logs</code>"
      ],
      "text/plain": [
       "<IPython.core.display.HTML object>"
      ]
     },
     "metadata": {},
     "output_type": "display_data"
    }
   ],
   "source": [
    "train_test(model=model, optimizer=optimizer, scheduler=scheduler, loss_fn=loss_fn, train_dataloader=train_dataloader, val_dataloader=val_dataloader, test_dataloader=test_dataloader, cfg_dict=cfg_dict)"
   ]
  },
  {
   "cell_type": "code",
   "execution_count": null,
   "metadata": {},
   "outputs": [],
   "source": [
    "cfg_dict.update({\n",
    "    'train_split': 0.08,\n",
    "    'val_split': 0.01,\n",
    "    'test_split': 0.01\n",
    "})\n",
    "train_test(model=model, optimizer=optimizer, scheduler=scheduler, loss_fn=loss_fn, train_dataloader=mini_train_score_dataloader, val_dataloader=mini_val_score_dataloader, test_dataloader=mini_test_score_dataloader, cfg_dict=cfg_dict)\n",
    "cfg_dict.update({\n",
    "    'train_split': 0.8,\n",
    "    'val_split': 0.1,\n",
    "    'test_split': 0.1\n",
    "})"
   ]
  }
 ],
 "metadata": {
  "kernelspec": {
   "display_name": "TBN",
   "language": "python",
   "name": "python3"
  },
  "language_info": {
   "codemirror_mode": {
    "name": "ipython",
    "version": 3
   },
   "file_extension": ".py",
   "mimetype": "text/x-python",
   "name": "python",
   "nbconvert_exporter": "python",
   "pygments_lexer": "ipython3",
   "version": "3.11.10"
  }
 },
 "nbformat": 4,
 "nbformat_minor": 2
}
