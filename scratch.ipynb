{
 "cells": [
  {
   "cell_type": "code",
   "execution_count": 1,
   "metadata": {},
   "outputs": [],
   "source": [
    "%load_ext autoreload\n",
    "%autoreload 2"
   ]
  },
  {
   "cell_type": "code",
   "execution_count": 2,
   "metadata": {},
   "outputs": [],
   "source": [
    "import pandas as pd\n",
    "import matplotlib.pyplot as plt\n",
    "import os\n",
    "%matplotlib inline\n",
    "plt.style.use('fivethirtyeight')"
   ]
  },
  {
   "cell_type": "code",
   "execution_count": 74,
   "metadata": {},
   "outputs": [],
   "source": [
    "games_df = pd.read_csv('data/game/bbref_game_with_game_type.csv')\n",
    "regular_season_df = games_df[(games_df['GAME_TYPE'] == 'regular_season') & (games_df['SEASON'] != '2019-2020')]\n",
    "\n",
    "season_means_dict = {}\n",
    "for team_file in os.listdir('data/team/box_regular_season_mean'):\n",
    "    team_df = pd.read_csv(f'data/team/box_regular_season_mean/{team_file}')\n",
    "    season_means_dict[team_file[:-4]] = team_df"
   ]
  },
  {
   "cell_type": "code",
   "execution_count": 76,
   "metadata": {},
   "outputs": [],
   "source": [
    "counts_df = games_df[[col for col in list(games_df.columns) if '%' not in col]]\n",
    "counts_df.to_csv('data/game/bbref_game_counts.csv', index=False)"
   ]
  },
  {
   "cell_type": "code",
   "execution_count": null,
   "metadata": {},
   "outputs": [],
   "source": []
  }
 ],
 "metadata": {
  "kernelspec": {
   "display_name": "TBN",
   "language": "python",
   "name": "python3"
  },
  "language_info": {
   "codemirror_mode": {
    "name": "ipython",
    "version": 3
   },
   "file_extension": ".py",
   "mimetype": "text/x-python",
   "name": "python",
   "nbconvert_exporter": "python",
   "pygments_lexer": "ipython3",
   "version": "3.11.10"
  }
 },
 "nbformat": 4,
 "nbformat_minor": 2
}
