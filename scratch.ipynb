{
 "cells": [
  {
   "cell_type": "code",
   "execution_count": 1,
   "metadata": {},
   "outputs": [],
   "source": [
    "%load_ext autoreload\n",
    "%autoreload 2"
   ]
  },
  {
   "cell_type": "code",
   "execution_count": 2,
   "metadata": {},
   "outputs": [],
   "source": [
    "import pandas as pd\n",
    "from src.process import processor\n",
    "\n",
    "STATS_TO_ADJUST = ['PTS', 'PACE', 'FGM', 'FGA', '3PT_FGM', '3PT_FGA', 'FTM', 'FTA', 'ORB', 'DRB', 'TRB', 'AST', 'STL', 'BLK', 'TOV', 'PF', 'ORTG', 'DRTG', '2PT_FGM', '2PT_FGA']"
   ]
  },
  {
   "cell_type": "code",
   "execution_count": 3,
   "metadata": {},
   "outputs": [],
   "source": [
    "df = pd.read_csv(\"data/game/box_raw/box_reshaped_regular.csv\")\n",
    "df = df[df['SEASON'] >= '2020-21']"
   ]
  },
  {
   "cell_type": "code",
   "execution_count": 4,
   "metadata": {},
   "outputs": [],
   "source": [
    "model = processor.BaseModel()"
   ]
  },
  {
   "cell_type": "code",
   "execution_count": 5,
   "metadata": {},
   "outputs": [
    {
     "name": "stdout",
     "output_type": "stream",
     "text": [
      "fitting seasonal slopes for 2020-21\n",
      "fitting seasonal slopes for 2021-22\n",
      "fitting seasonal slopes for 2022-23\n",
      "fitting seasonal slopes for 2023-24\n",
      "calculating home adjustment for 2020-21\n",
      "calculating home adjustment for 2021-22\n",
      "calculating home adjustment for 2022-23\n",
      "calculating home adjustment for 2023-24\n",
      "calculating rest adjustment for 2020-21\n",
      "calculating rest adjustment for 1in3\n",
      "calculating rest adjustment for 2in3\n",
      "calculating rest adjustment for 2in2\n",
      "calculating rest adjustment for 2021-22\n",
      "calculating rest adjustment for 1in3\n",
      "calculating rest adjustment for 2in3\n",
      "calculating rest adjustment for 2in2\n",
      "calculating rest adjustment for 2022-23\n",
      "calculating rest adjustment for 1in3\n",
      "calculating rest adjustment for 2in3\n",
      "calculating rest adjustment for 2in2\n",
      "calculating rest adjustment for 2023-24\n",
      "calculating rest adjustment for 1in3\n",
      "calculating rest adjustment for 2in3\n",
      "calculating rest adjustment for 2in2\n",
      "calculating opponent adjustment for 2020-21\n",
      "2020-21 opponent effect magnitude for iteration 0: 8.16256968229188\n",
      "2020-21 opponent effect magnitude for iteration 1: 0.2964895717321673\n",
      "2020-21 opponent effect magnitude for iteration 2: 0.011960508706063884\n",
      "calculating opponent adjustment for 2021-22\n",
      "2021-22 opponent effect magnitude for iteration 0: 7.768084481169769\n",
      "2021-22 opponent effect magnitude for iteration 1: 0.2814324278047996\n",
      "2021-22 opponent effect magnitude for iteration 2: 0.02029706864370652\n",
      "calculating opponent adjustment for 2022-23\n",
      "2022-23 opponent effect magnitude for iteration 0: 7.111366135421637\n",
      "2022-23 opponent effect magnitude for iteration 1: 0.27440873668842974\n",
      "2022-23 opponent effect magnitude for iteration 2: 0.01830171017720612\n",
      "calculating opponent adjustment for 2023-24\n",
      "2023-24 opponent effect magnitude for iteration 0: 8.351542400555926\n",
      "2023-24 opponent effect magnitude for iteration 1: 0.30981509776609406\n",
      "2023-24 opponent effect magnitude for iteration 2: 0.020228433541483553\n"
     ]
    }
   ],
   "source": [
    "processed_df = model.forward(df)"
   ]
  },
  {
   "cell_type": "code",
   "execution_count": 6,
   "metadata": {},
   "outputs": [],
   "source": [
    "mean_filled_df = processor.make_mean_filled_df(processed_df)"
   ]
  },
  {
   "cell_type": "code",
   "execution_count": 7,
   "metadata": {},
   "outputs": [
    {
     "name": "stdout",
     "output_type": "stream",
     "text": [
      "applying opponent adjustment backward\n",
      "applying rest adjustment backward\n",
      "applying home adjustment backward\n",
      "applying seasonal slopes backward\n"
     ]
    }
   ],
   "source": [
    "processed_df = model.backward(mean_filled_df)"
   ]
  },
  {
   "cell_type": "code",
   "execution_count": 29,
   "metadata": {},
   "outputs": [],
   "source": [
    "original_df = pd.read_csv(\"data/game/box_raw/box_reshaped_regular.csv\")\n",
    "original_df = original_df[original_df['SEASON'] >= '2020-21']"
   ]
  },
  {
   "cell_type": "code",
   "execution_count": 30,
   "metadata": {},
   "outputs": [],
   "source": [
    "training_df = processor.make_training_df(processed_df, original_df)"
   ]
  },
  {
   "cell_type": "code",
   "execution_count": 31,
   "metadata": {},
   "outputs": [],
   "source": [
    "simplified_training_df = training_df.drop(columns=['HOME_TEAM', 'AWAY_TEAM', 'SEASON', 'DATE'])"
   ]
  },
  {
   "cell_type": "code",
   "execution_count": 32,
   "metadata": {},
   "outputs": [],
   "source": [
    "simplified_training_df['PTS_DIFF'] = simplified_training_df['HOME_PTS'] - simplified_training_df['AWAY_PTS']"
   ]
  },
  {
   "cell_type": "code",
   "execution_count": 33,
   "metadata": {},
   "outputs": [],
   "source": [
    "simplified_training_df[['HOME_REST', 'AWAY_REST']] = simplified_training_df[['HOME_REST', 'AWAY_REST']].astype('category')\n",
    "simplified_training_df['HOME_WIN'] = simplified_training_df['HOME_WIN'].astype(bool)\n",
    "non_numeric_cols = ['HOME_REST', 'AWAY_REST', 'HOME_WIN']\n",
    "numeric_cols = [col for col in simplified_training_df.columns \n",
    "                if col not in non_numeric_cols]\n",
    "simplified_training_df[numeric_cols] = simplified_training_df[numeric_cols].astype(float)"
   ]
  },
  {
   "cell_type": "code",
   "execution_count": 34,
   "metadata": {},
   "outputs": [],
   "source": [
    "simplified_training_df[numeric_cols] = simplified_training_df[numeric_cols].div(simplified_training_df[numeric_cols].max(axis=1), axis=0)"
   ]
  },
  {
   "cell_type": "code",
   "execution_count": 35,
   "metadata": {},
   "outputs": [],
   "source": [
    "simplified_training_df.drop(columns=['HOME_Y', 'AWAY_Y'], inplace=True)"
   ]
  },
  {
   "cell_type": "code",
   "execution_count": 61,
   "metadata": {},
   "outputs": [
    {
     "name": "stdout",
     "output_type": "stream",
     "text": [
      "cross-validation accuracy: 0.660 (+/- 0.026)\n",
      "train set accuracy: 0.708\n",
      "test set accuracy: 0.666\n"
     ]
    }
   ],
   "source": [
    "import xgboost as xgb\n",
    "from sklearn.model_selection import cross_val_score, train_test_split\n",
    "\n",
    "# split features and target\n",
    "X = simplified_training_df.drop(columns=['HOME_WIN'])\n",
    "y = simplified_training_df['HOME_WIN']\n",
    "\n",
    "params = {\n",
    "    'objective': 'binary:logistic',\n",
    "    'max_depth': 3,  \n",
    "    'learning_rate': 0.05,  \n",
    "    'min_child_weight': 30,  \n",
    "    'subsample': 0.7,  \n",
    "    'colsample_bytree': 0.7,  \n",
    "    'gamma': 1, \n",
    "    'random_state': 2002,\n",
    "    'enable_categorical': True\n",
    "}\n",
    "\n",
    "# method 1: Using sklearn's cross_val_score\n",
    "xgb_model = xgb.XGBClassifier(**params)\n",
    "\n",
    "X_train, X_test, y_train, y_test = train_test_split(X, y, test_size=0.2, random_state=42)\n",
    "\n",
    "scores = cross_val_score(xgb_model, X_train, y_train, cv=5)\n",
    "print(f\"cross-validation accuracy: {scores.mean():.3f} (+/- {scores.std() * 2:.3f})\")\n",
    "\n",
    "xgb_model.fit(X_train, y_train)\n",
    "train_score = xgb_model.score(X_train, y_train)\n",
    "print(f\"train set accuracy: {train_score:.3f}\")\n",
    "test_score = xgb_model.score(X_test, y_test)\n",
    "print(f\"test set accuracy: {test_score:.3f}\")\n"
   ]
  },
  {
   "cell_type": "code",
   "execution_count": 23,
   "metadata": {},
   "outputs": [
    {
     "name": "stdout",
     "output_type": "stream",
     "text": [
      "Top 10 most important features:\n",
      "      feature  importance\n",
      "43   AWAY_PTS    0.069608\n",
      "19   HOME_PTS    0.052587\n",
      "10   HOME_FGM    0.040921\n",
      "16  HOME_ORTG    0.024466\n",
      "40  AWAY_ORTG    0.023359\n",
      "37   AWAY_FTR    0.022145\n",
      "13   HOME_FTR    0.021723\n",
      "18    HOME_PF    0.020826\n",
      "33   AWAY_FGA    0.020658\n",
      "17  HOME_PACE    0.020516\n"
     ]
    }
   ],
   "source": [
    "# Get feature importance\n",
    "importance = pd.DataFrame({\n",
    "    'feature': X.columns,\n",
    "    'importance': model.feature_importances_\n",
    "}).sort_values('importance', ascending=False)\n",
    "\n",
    "print(\"Top 10 most important features:\")\n",
    "print(importance.head(10))"
   ]
  },
  {
   "cell_type": "code",
   "execution_count": 17,
   "metadata": {},
   "outputs": [
    {
     "name": "stdout",
     "output_type": "stream",
     "text": [
      "\n",
      "Top correlations with HOME_WIN:\n",
      "         feature  correlation\n",
      "19      HOME_PTS     0.262993\n",
      "10      HOME_FGM     0.244255\n",
      "16     HOME_ORTG     0.215648\n",
      "17     HOME_PACE     0.162781\n",
      "5       HOME_AST     0.160585\n",
      "1   HOME_2PT_FGM     0.149037\n",
      "9       HOME_FGA     0.138534\n",
      "7       HOME_DRB     0.112954\n",
      "4   HOME_3PT_FGM     0.112155\n",
      "22      HOME_TRB     0.109395\n"
     ]
    }
   ],
   "source": [
    "# Look at correlations with target\n",
    "correlations = pd.DataFrame({\n",
    "    'feature': [col for col in X.columns if col not in ['HOME_REST', 'AWAY_REST']],\n",
    "    'correlation': [X[col].corr(y) for col in X.columns if col not in ['HOME_REST', 'AWAY_REST']]\n",
    "}).sort_values('correlation', ascending=False)\n",
    "\n",
    "print(\"\\nTop correlations with HOME_WIN:\")\n",
    "print(correlations.head(10))"
   ]
  },
  {
   "cell_type": "code",
   "execution_count": null,
   "metadata": {},
   "outputs": [],
   "source": []
  }
 ],
 "metadata": {
  "kernelspec": {
   "display_name": "TBN",
   "language": "python",
   "name": "python3"
  },
  "language_info": {
   "codemirror_mode": {
    "name": "ipython",
    "version": 3
   },
   "file_extension": ".py",
   "mimetype": "text/x-python",
   "name": "python",
   "nbconvert_exporter": "python",
   "pygments_lexer": "ipython3",
   "version": "3.11.8"
  }
 },
 "nbformat": 4,
 "nbformat_minor": 2
}
