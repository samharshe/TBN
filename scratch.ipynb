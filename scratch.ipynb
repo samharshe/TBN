{
 "cells": [
  {
   "cell_type": "code",
   "execution_count": 1,
   "metadata": {},
   "outputs": [],
   "source": [
    "%load_ext autoreload\n",
    "%autoreload 2"
   ]
  },
  {
   "cell_type": "code",
   "execution_count": 11,
   "metadata": {},
   "outputs": [],
   "source": [
    "from src.data.dummy_data import get_engineered_dataloaders, GameDataset, get_player_score_dataloaders\n",
    "from run.scripts import train_test, check_memory, test_player_score\n",
    "from torch.nn import MSELoss\n",
    "from torch.optim.lr_scheduler import ReduceLROnPlateau\n",
    "from torch.optim import Adam\n",
    "import torch\n",
    "\n",
    "from src.ml.model import EvenMoreGradualPlayerModel, PlayerScoreModel\n",
    "torch.manual_seed(2002);"
   ]
  },
  {
   "cell_type": "code",
   "execution_count": 19,
   "metadata": {},
   "outputs": [
    {
     "name": "stderr",
     "output_type": "stream",
     "text": [
      "/Users/samharshe/Documents/Programming/TBN/src/data/dummy_data.py:24: FutureWarning: You are using `torch.load` with `weights_only=False` (the current default value), which uses the default pickle module implicitly. It is possible to construct malicious pickle data which will execute arbitrary code during unpickling (See https://github.com/pytorch/pytorch/blob/main/SECURITY.md#untrusted-models for more details). In a future release, the default value for `weights_only` will be flipped to `True`. This limits the functions that could be executed during unpickling. Arbitrary objects will no longer be allowed to be loaded via this mode unless they are explicitly allowlisted by the user via `torch.serialization.add_safe_globals`. We recommend you start setting `weights_only=True` for any use case where you don't have full control of the loaded file. Please open an issue on GitHub for any issues related to this experimental feature.\n",
      "  return torch.load(processed_dataset_path)\n"
     ]
    }
   ],
   "source": [
    "tdl, vdl, tdl = get_player_score_dataloaders(name='cactus_flower', x_version='players', train_split=0.8, val_split=0.1, test_split=0.1, batch_size=16)"
   ]
  },
  {
   "cell_type": "code",
   "execution_count": null,
   "metadata": {},
   "outputs": [],
   "source": [
    "train_score_dataloader, val_score_dataloader, test_score_dataloader = get_engineered_dataloaders(name=cfg_dict['dataset_name'], x_version=cfg_dict['x_version'], y_version=cfg_dict['y_version'], batch_size=cfg_dict['batch_size'], train_split=cfg_dict['train_split'], val_split=cfg_dict['val_split'], test_split=cfg_dict['test_split'])\n",
    "mini_train_score_dataloader, mini_val_score_dataloader, mini_test_score_dataloader = get_engineered_dataloaders(name=cfg_dict['dataset_name'], x_version=cfg_dict['x_version'], y_version=cfg_dict['y_version'], batch_size=cfg_dict['batch_size'], train_split=0.08, val_split=0.01, test_split=0.01)"
   ]
  },
  {
   "cell_type": "code",
   "execution_count": 20,
   "metadata": {},
   "outputs": [],
   "source": [
    "cfg_dict = {\n",
    "    'name': 'electricity',\n",
    "    'dataset_name': 'cactus_flower',\n",
    "    'x_version': 'players',\n",
    "    'y_version': 'score',\n",
    "    'batch_size': 16,\n",
    "    'train_split': 0.8,\n",
    "    'val_split': 0.1,\n",
    "    'test_split': 0.1,\n",
    "    'n_epochs': 10,\n",
    "    'loss_fn': 'MSELoss',\n",
    "    'optimizer': 'Adam',\n",
    "    'scheduler': 'ReduceLROnPlateau',\n",
    "    'model': 'PlayerScoreModel',\n",
    "    'd_mod': 32\n",
    "}"
   ]
  },
  {
   "cell_type": "code",
   "execution_count": 26,
   "metadata": {},
   "outputs": [],
   "source": [
    "model = PlayerScoreModel(d_in=65, d_mod=cfg_dict['d_mod'])"
   ]
  },
  {
   "cell_type": "code",
   "execution_count": 27,
   "metadata": {},
   "outputs": [
    {
     "data": {
      "text/html": [
       "Finishing last run (ID:lh2hjmuk) before initializing another..."
      ],
      "text/plain": [
       "<IPython.core.display.HTML object>"
      ]
     },
     "metadata": {},
     "output_type": "display_data"
    },
    {
     "data": {
      "text/html": [
       "<style>\n",
       "    table.wandb td:nth-child(1) { padding: 0 10px; text-align: left ; width: auto;} td:nth-child(2) {text-align: left ; width: 100%}\n",
       "    .wandb-row { display: flex; flex-direction: row; flex-wrap: wrap; justify-content: flex-start; width: 100% }\n",
       "    .wandb-col { display: flex; flex-direction: column; flex-basis: 100%; flex: 1; padding: 10px; }\n",
       "    </style>\n",
       "<div class=\"wandb-row\"><div class=\"wandb-col\"><h3>Run history:</h3><br/><table class=\"wandb\"><tr><td>batch_size</td><td>▁</td></tr></table><br/></div><div class=\"wandb-col\"><h3>Run summary:</h3><br/><table class=\"wandb\"><tr><td>batch_size</td><td>4</td></tr></table><br/></div></div>"
      ],
      "text/plain": [
       "<IPython.core.display.HTML object>"
      ]
     },
     "metadata": {},
     "output_type": "display_data"
    },
    {
     "data": {
      "text/html": [
       "You can sync this run to the cloud by running:<br/><code>wandb sync /Users/samharshe/Documents/Programming/TBN/wandb/offline-run-20241024_095604-lh2hjmuk<code>"
      ],
      "text/plain": [
       "<IPython.core.display.HTML object>"
      ]
     },
     "metadata": {},
     "output_type": "display_data"
    },
    {
     "data": {
      "text/html": [
       "Find logs at: <code>./wandb/offline-run-20241024_095604-lh2hjmuk/logs</code>"
      ],
      "text/plain": [
       "<IPython.core.display.HTML object>"
      ]
     },
     "metadata": {},
     "output_type": "display_data"
    },
    {
     "data": {
      "text/html": [
       "Successfully finished last run (ID:lh2hjmuk). Initializing new run:<br/>"
      ],
      "text/plain": [
       "<IPython.core.display.HTML object>"
      ]
     },
     "metadata": {},
     "output_type": "display_data"
    },
    {
     "data": {
      "text/html": [
       "Tracking run with wandb version 0.18.5"
      ],
      "text/plain": [
       "<IPython.core.display.HTML object>"
      ]
     },
     "metadata": {},
     "output_type": "display_data"
    },
    {
     "data": {
      "text/html": [
       "W&B syncing is set to <code>`offline`<code> in this directory.  <br/>Run <code>`wandb online`<code> or set <code>WANDB_MODE=online<code> to enable cloud syncing."
      ],
      "text/plain": [
       "<IPython.core.display.HTML object>"
      ]
     },
     "metadata": {},
     "output_type": "display_data"
    },
    {
     "name": "stderr",
     "output_type": "stream",
     "text": [
      "\u001b[34m\u001b[1mwandb\u001b[0m: logging graph, to disable use `wandb.watch(log_graph=False)`\n"
     ]
    },
    {
     "data": {
      "text/html": [
       "<style>\n",
       "    table.wandb td:nth-child(1) { padding: 0 10px; text-align: left ; width: auto;} td:nth-child(2) {text-align: left ; width: 100%}\n",
       "    .wandb-row { display: flex; flex-direction: row; flex-wrap: wrap; justify-content: flex-start; width: 100% }\n",
       "    .wandb-col { display: flex; flex-direction: column; flex-basis: 100%; flex: 1; padding: 10px; }\n",
       "    </style>\n",
       "<div class=\"wandb-row\"><div class=\"wandb-col\"><h3>Run history:</h3><br/><table class=\"wandb\"><tr><td>batch_size</td><td>▁</td></tr><tr><td>train_loss</td><td>███▇▇▇▇▇▇▆▆▆▆▆▅▅▅▅▄▄▄▄▄▄▄▃▃▃▃▃▃▂▂▂▂▂▁▁▁▁</td></tr></table><br/></div><div class=\"wandb-col\"><h3>Run summary:</h3><br/><table class=\"wandb\"><tr><td>batch_size</td><td>4</td></tr><tr><td>train_loss</td><td>0.0341</td></tr></table><br/></div></div>"
      ],
      "text/plain": [
       "<IPython.core.display.HTML object>"
      ]
     },
     "metadata": {},
     "output_type": "display_data"
    },
    {
     "data": {
      "text/html": [
       "You can sync this run to the cloud by running:<br/><code>wandb sync /Users/samharshe/Documents/Programming/TBN/wandb/offline-run-20241024_095707-l7rtgc6m<code>"
      ],
      "text/plain": [
       "<IPython.core.display.HTML object>"
      ]
     },
     "metadata": {},
     "output_type": "display_data"
    },
    {
     "data": {
      "text/html": [
       "Find logs at: <code>./wandb/offline-run-20241024_095707-l7rtgc6m/logs</code>"
      ],
      "text/plain": [
       "<IPython.core.display.HTML object>"
      ]
     },
     "metadata": {},
     "output_type": "display_data"
    },
    {
     "name": "stdout",
     "output_type": "stream",
     "text": [
      "final prediction: model(x)\n",
      "[[-0.010627323761582375, -0.03943168371915817, -0.03407342731952667, -0.04283420741558075, -0.03531227260828018, -0.03654705360531807, -0.016895852982997894, -0.016784243285655975, -0.02865421399474144, -0.002046676352620125, -0.033217526972293854, -0.038174331188201904, -0.015668828040361404, -0.04888255521655083, -0.028988005593419075, -0.04908030852675438, -0.02360948547720909, -0.041712574660778046, -0.019937535747885704, -0.03826767951250076, -0.03367457166314125, -0.04534662887454033, -0.03525357320904732, -0.019783200696110725, -0.028260506689548492, -0.045362066477537155, -0.018741965293884277, -0.018741965293884277, -0.018741965293884277], [-0.014238111674785614, -0.014292729087173939, -0.0387963131070137, -0.017327453941106796, -0.017499614506959915, -0.013567810878157616, -0.04818940907716751, -0.031507592648267746, -0.01691722683608532, -0.023454580456018448, -0.012906346470117569, -0.030155546963214874, -0.035619474947452545, -0.038165658712387085, -0.020813046023249626, -0.031192943453788757, -0.0583716481924057, -0.04112948104739189, -0.03626632317900658, -0.019962171092629433, -0.017612311989068985, -0.02230245992541313, -0.04487857222557068, -0.021828211843967438, -0.018741965293884277, -0.018741965293884277, -0.018741965293884277, -0.018741965293884277, -0.018741965293884277], [-0.024875108152627945, -0.016181960701942444, -0.026762858033180237, -0.026424963027238846, -0.06391282379627228, -0.020200522616505623, -0.011145204305648804, -0.017097901552915573, -0.02102261409163475, -0.007527189329266548, -0.032307907938957214, -0.024832341820001602, -0.03477304428815842, -0.02510085143148899, -0.03864914923906326, -0.031661100685596466, -0.03249209374189377, -0.01508057676255703, -0.05243793874979019, -0.0383744016289711, -0.06277094781398773, -0.02683556079864502, -0.04203685000538826, -0.04159616678953171, -0.04559388384222984, -0.04019172862172127, -0.05320452153682709, -0.018741965293884277, -0.018741965293884277], [-0.03572174161672592, -0.01618899218738079, -0.030490025877952576, -0.020974257960915565, -0.013089289888739586, -0.030468538403511047, -0.022285662591457367, -0.02380475215613842, -0.026828188449144363, -0.05263710767030716, -0.036871664226055145, -0.034931957721710205, -0.029033269733190536, -0.02689000591635704, -0.043737273663282394, -0.0437278226017952, -0.02170199155807495, -0.05110948532819748, -0.044099606573581696, -0.028985299170017242, -0.040137507021427155, -0.04158223792910576, -0.02036917395889759, -0.026293285191059113, -0.03288130462169647, -0.018741965293884277, -0.018741965293884277, -0.018741965293884277, -0.018741965293884277]]\n",
      "actual value: y\n",
      "[[0.15068493783473969, 0.3835616409778595, 0.08219178020954132, 0.0, 0.0, 0.232876718044281, 0.08219178020954132, 0.12328767031431198, 0.0, 0.232876718044281, 0.12328767031431198, 0.0, 0.19178082048892975, 0.04109589010477066, 0.31506848335266113, 0.0, 0.027397260069847107, 0.19178082048892975, 0.08219178020954132, 0.06849315017461777, 0.12328767031431198, 0.0, 0.2054794579744339, 0.0, 0.5205479264259338, 0.0, 0.0, 0.0, 0.0], [0.10958904027938843, 0.5616438388824463, 0.0, 0.0, 0.16438356041908264, 0.0, 0.09589041024446487, 0.19178082048892975, 0.013698630034923553, 0.054794520139694214, 0.09589041024446487, 0.1780821979045868, 0.2876712381839752, 0.054794520139694214, 0.10958904027938843, 0.0, 0.27397260069847107, 0.27397260069847107, 0.0, 0.1780821979045868, 0.09589041024446487, 0.2054794579744339, 0.0, 0.0, 0.0, 0.0, 0.0, 0.0, 0.0], [0.0, 0.054794520139694214, 0.04109589010477066, 0.15068493783473969, 0.2602739632129669, 0.0, 0.30136987566947937, 0.054794520139694214, 0.027397260069847107, 0.15068493783473969, 0.09589041024446487, 0.027397260069847107, 0.39726027846336365, 0.15068493783473969, 0.2602739632129669, 0.2876712381839752, 0.054794520139694214, 0.06849315017461777, 0.0, 0.0, 0.3287671208381653, 0.0, 0.0, 0.0, 0.0, 0.08219178020954132, 0.21917808055877686, 0.0, 0.0], [0.0, 0.12328767031431198, 0.0, 0.16438356041908264, 0.19178082048892975, 0.0, 0.08219178020954132, 0.232876718044281, 0.34246575832366943, 0.27397260069847107, 0.0, 0.15068493783473969, 0.10958904027938843, 0.027397260069847107, 0.12328767031431198, 0.0, 0.1780821979045868, 0.0, 0.19178082048892975, 0.0, 0.42465752363204956, 0.0, 0.30136987566947937, 0.1780821979045868, 0.0, 0.0, 0.0, 0.0, 0.0]]\n",
      "final loss: 0.0341\n"
     ]
    },
    {
     "data": {
      "image/png": "[encoded data removed]",
      "text/plain": [
       "<Figure size 640x480 with 1 Axes>"
      ]
     },
     "metadata": {},
     "output_type": "display_data"
    }
   ],
   "source": [
    "check_memory(model=model, dataloader=tdl, n_epochs=100, batch_size=4, lr=3e-4)"
   ]
  },
  {
   "cell_type": "code",
   "execution_count": 16,
   "metadata": {},
   "outputs": [],
   "source": [
    "optimizer = Adam(model.parameters(), lr=3e-4)\n",
    "loss_fn = MSELoss()\n",
    "scheduler = ReduceLROnPlateau(optimizer, mode='min', factor=0.5, patience=2)\n",
    "n_epochs = cfg_dict['n_epochs']"
   ]
  },
  {
   "cell_type": "code",
   "execution_count": 17,
   "metadata": {},
   "outputs": [
    {
     "data": {
      "text/html": [
       "Tracking run with wandb version 0.18.5"
      ],
      "text/plain": [
       "<IPython.core.display.HTML object>"
      ]
     },
     "metadata": {},
     "output_type": "display_data"
    },
    {
     "data": {
      "text/html": [
       "Run data is saved locally in <code>/Users/samharshe/Documents/Programming/TBN/wandb/run-20241023_190444-v0ll7keb</code>"
      ],
      "text/plain": [
       "<IPython.core.display.HTML object>"
      ]
     },
     "metadata": {},
     "output_type": "display_data"
    },
    {
     "data": {
      "text/html": [
       "Syncing run <strong><a href='https://wandb.ai/sharshe/TBN/runs/v0ll7keb' target=\"_blank\">vivid-night-78</a></strong> to <a href='https://wandb.ai/sharshe/TBN' target=\"_blank\">Weights & Biases</a> (<a href='https://wandb.me/run' target=\"_blank\">docs</a>)<br/>"
      ],
      "text/plain": [
       "<IPython.core.display.HTML object>"
      ]
     },
     "metadata": {},
     "output_type": "display_data"
    },
    {
     "data": {
      "text/html": [
       " View project at <a href='https://wandb.ai/sharshe/TBN' target=\"_blank\">https://wandb.ai/sharshe/TBN</a>"
      ],
      "text/plain": [
       "<IPython.core.display.HTML object>"
      ]
     },
     "metadata": {},
     "output_type": "display_data"
    },
    {
     "data": {
      "text/html": [
       " View run at <a href='https://wandb.ai/sharshe/TBN/runs/v0ll7keb' target=\"_blank\">https://wandb.ai/sharshe/TBN/runs/v0ll7keb</a>"
      ],
      "text/plain": [
       "<IPython.core.display.HTML object>"
      ]
     },
     "metadata": {},
     "output_type": "display_data"
    },
    {
     "name": "stderr",
     "output_type": "stream",
     "text": [
      "\u001b[34m\u001b[1mwandb\u001b[0m: logging graph, to disable use `wandb.watch(log_graph=False)`\n"
     ]
    },
    {
     "name": "stdout",
     "output_type": "stream",
     "text": [
      "EPOCH 1 OF 10 | electricity | TRAIN MEAN LOSS: 0.010510 | VAL MEAN LOSS: 0.006746\n",
      "EPOCH 2 OF 10 | electricity | TRAIN MEAN LOSS: 0.006352 | VAL MEAN LOSS: 0.006319\n",
      "EPOCH 3 OF 10 | electricity | TRAIN MEAN LOSS: 0.005860 | VAL MEAN LOSS: 0.006058\n",
      "EPOCH 4 OF 10 | electricity | TRAIN MEAN LOSS: 0.005753 | VAL MEAN LOSS: 0.005263\n",
      "EPOCH 5 OF 10 | electricity | TRAIN MEAN LOSS: 0.005591 | VAL MEAN LOSS: 0.005549\n",
      "EPOCH 6 OF 10 | electricity | TRAIN MEAN LOSS: 0.005553 | VAL MEAN LOSS: 0.005444\n",
      "EPOCH 7 OF 10 | electricity | TRAIN MEAN LOSS: 0.005341 | VAL MEAN LOSS: 0.005135\n",
      "EPOCH 8 OF 10 | electricity | TRAIN MEAN LOSS: 0.005402 | VAL MEAN LOSS: 0.005172\n",
      "EPOCH 9 OF 10 | electricity | TRAIN MEAN LOSS: 0.005382 | VAL MEAN LOSS: 0.005542\n",
      "EPOCH 10 OF 10 | electricity | TRAIN MEAN LOSS: 0.005435 | VAL MEAN LOSS: 0.005445\n"
     ]
    },
    {
     "data": {
      "image/png": "[encoded data removed]",
      "text/plain": [
       "<Figure size 640x480 with 1 Axes>"
      ]
     },
     "metadata": {},
     "output_type": "display_data"
    },
    {
     "name": "stdout",
     "output_type": "stream",
     "text": [
      "TEST MEAN LOSS: 0.005598\n",
      "TEST ACCURACY: 0.556439\n"
     ]
    },
    {
     "data": {
      "application/vnd.jupyter.widget-view+json": {
       "model_id": "e7014eabdae84a00ae6939e593f0f2c3",
       "version_major": 2,
       "version_minor": 0
      },
      "text/plain": [
       "VBox(children=(Label(value='0.070 MB of 0.070 MB uploaded\\r'), FloatProgress(value=1.0, max=1.0)))"
      ]
     },
     "metadata": {},
     "output_type": "display_data"
    },
    {
     "data": {
      "text/html": [
       "<style>\n",
       "    table.wandb td:nth-child(1) { padding: 0 10px; text-align: left ; width: auto;} td:nth-child(2) {text-align: left ; width: 100%}\n",
       "    .wandb-row { display: flex; flex-direction: row; flex-wrap: wrap; justify-content: flex-start; width: 100% }\n",
       "    .wandb-col { display: flex; flex-direction: column; flex-basis: 100%; flex: 1; padding: 10px; }\n",
       "    </style>\n",
       "<div class=\"wandb-row\"><div class=\"wandb-col\"><h3>Run history:</h3><br/><table class=\"wandb\"><tr><td>learning_rate</td><td>▁▁▁▁▁▁▁▁▁▁</td></tr><tr><td>test_accuracy</td><td>▁</td></tr><tr><td>test_mean_loss</td><td>▁</td></tr><tr><td>train_mean_loss</td><td>█▂▂▂▁▁▁▁▁▁</td></tr><tr><td>val_mean_loss</td><td>█▆▅▂▃▂▁▁▃▂</td></tr></table><br/></div><div class=\"wandb-col\"><h3>Run summary:</h3><br/><table class=\"wandb\"><tr><td>learning_rate</td><td>0.0003</td></tr><tr><td>test_accuracy</td><td>0.55644</td></tr><tr><td>test_mean_loss</td><td>0.0056</td></tr><tr><td>train_mean_loss</td><td>0.00543</td></tr><tr><td>val_mean_loss</td><td>0.00544</td></tr></table><br/></div></div>"
      ],
      "text/plain": [
       "<IPython.core.display.HTML object>"
      ]
     },
     "metadata": {},
     "output_type": "display_data"
    },
    {
     "data": {
      "text/html": [
       " View run <strong style=\"color:#cdcd00\">vivid-night-78</strong> at: <a href='https://wandb.ai/sharshe/TBN/runs/v0ll7keb' target=\"_blank\">https://wandb.ai/sharshe/TBN/runs/v0ll7keb</a><br/> View project at: <a href='https://wandb.ai/sharshe/TBN' target=\"_blank\">https://wandb.ai/sharshe/TBN</a><br/>Synced 4 W&B file(s), 0 media file(s), 3 artifact file(s) and 1 other file(s)"
      ],
      "text/plain": [
       "<IPython.core.display.HTML object>"
      ]
     },
     "metadata": {},
     "output_type": "display_data"
    },
    {
     "data": {
      "text/html": [
       "Find logs at: <code>./wandb/run-20241023_190444-v0ll7keb/logs</code>"
      ],
      "text/plain": [
       "<IPython.core.display.HTML object>"
      ]
     },
     "metadata": {},
     "output_type": "display_data"
    }
   ],
   "source": [
    "train_test(model=model, optimizer=optimizer, scheduler=scheduler, loss_fn=loss_fn, train_dataloader=train_score_dataloader, val_dataloader=val_score_dataloader, test_dataloader=test_score_dataloader, cfg_dict=cfg_dict)"
   ]
  },
  {
   "cell_type": "code",
   "execution_count": null,
   "metadata": {},
   "outputs": [],
   "source": [
    "cfg_dict.update({\n",
    "    'train_split': 0.08,\n",
    "    'val_split': 0.01,\n",
    "    'test_split': 0.01\n",
    "})\n",
    "train_test(model=model, optimizer=optimizer, scheduler=scheduler, loss_fn=loss_fn, train_dataloader=mini_train_score_dataloader, val_dataloader=mini_val_score_dataloader, test_dataloader=mini_test_score_dataloader, cfg_dict=cfg_dict)\n",
    "cfg_dict.update({\n",
    "    'train_split': 0.8,\n",
    "    'val_split': 0.1,\n",
    "    'test_split': 0.1\n",
    "})"
   ]
  }
 ],
 "metadata": {
  "kernelspec": {
   "display_name": "TBN",
   "language": "python",
   "name": "python3"
  },
  "language_info": {
   "codemirror_mode": {
    "name": "ipython",
    "version": 3
   },
   "file_extension": ".py",
   "mimetype": "text/x-python",
   "name": "python",
   "nbconvert_exporter": "python",
   "pygments_lexer": "ipython3",
   "version": "3.10.14"
  }
 },
 "nbformat": 4,
 "nbformat_minor": 2
}
