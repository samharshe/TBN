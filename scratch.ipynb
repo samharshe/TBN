{
 "cells": [
  {
   "cell_type": "code",
   "execution_count": 1,
   "metadata": {},
   "outputs": [],
   "source": [
    "%load_ext autoreload\n",
    "%autoreload 2"
   ]
  },
  {
   "cell_type": "code",
   "execution_count": 93,
   "metadata": {},
   "outputs": [],
   "source": [
    "from src.data.dummy_data import get_engineered_dataloaders, GameDataset, get_fiesta_dataloaders\n",
    "from run.scripts import train_test, check_memory\n",
    "from torch.nn import MSELoss\n",
    "from torch.optim.lr_scheduler import ReduceLROnPlateau\n",
    "from torch.optim import Adam\n",
    "import torch\n",
    "\n",
    "from src.ml.model import EvenMoreGradualPlayerModel, PlayerPointsModel\n",
    "torch.manual_seed(2002);"
   ]
  },
  {
   "cell_type": "code",
   "execution_count": 80,
   "metadata": {},
   "outputs": [
    {
     "name": "stderr",
     "output_type": "stream",
     "text": [
      "/Users/samharshe/Documents/Programming/TBN/src/data/dummy_data.py:24: FutureWarning: You are using `torch.load` with `weights_only=False` (the current default value), which uses the default pickle module implicitly. It is possible to construct malicious pickle data which will execute arbitrary code during unpickling (See https://github.com/pytorch/pytorch/blob/main/SECURITY.md#untrusted-models for more details). In a future release, the default value for `weights_only` will be flipped to `True`. This limits the functions that could be executed during unpickling. Arbitrary objects will no longer be allowed to be loaded via this mode unless they are explicitly allowlisted by the user via `torch.serialization.add_safe_globals`. We recommend you start setting `weights_only=True` for any use case where you don't have full control of the loaded file. Please open an issue on GitHub for any issues related to this experimental feature.\n",
      "  return torch.load(processed_dataset_path)\n"
     ]
    }
   ],
   "source": [
    "tdl, vdl, tdl = get_fiesta_dataloaders(name='cactus_flower', train_split=0.8, val_split=0.1, test_split=0.1, batch_size=16)"
   ]
  },
  {
   "cell_type": "code",
   "execution_count": 104,
   "metadata": {},
   "outputs": [],
   "source": [
    "cfg_dict = {\n",
    "    'name': 'fiesta',\n",
    "    'dataset_name': 'cactus_flower',\n",
    "    'x_version': 'players',\n",
    "    'y_version': 'score',\n",
    "    'batch_size': 16,\n",
    "    'train_split': 0.8,\n",
    "    'val_split': 0.1,\n",
    "    'test_split': 0.1,\n",
    "    'n_epochs': 10,\n",
    "    'loss_fn': 'MSELoss',\n",
    "    'optimizer': 'Adam',\n",
    "    'scheduler': 'ReduceLROnPlateau',\n",
    "    'model': 'PlayerScoreModel',\n",
    "    'd_mod': 32\n",
    "}"
   ]
  },
  {
   "cell_type": "code",
   "execution_count": 106,
   "metadata": {},
   "outputs": [],
   "source": [
    "model = PlayerPointsModel(d_in=65, d_mod=cfg_dict['d_mod'])"
   ]
  },
  {
   "cell_type": "code",
   "execution_count": 107,
   "metadata": {},
   "outputs": [
    {
     "data": {
      "application/vnd.jupyter.widget-view+json": {
       "model_id": "1d8836c23a8b4269ae0188917e0b9687",
       "version_major": 2,
       "version_minor": 0
      },
      "text/plain": [
       "VBox(children=(Label(value='Waiting for wandb.init()...\\r'), FloatProgress(value=0.011151423855577984, max=1.0…"
      ]
     },
     "metadata": {},
     "output_type": "display_data"
    },
    {
     "data": {
      "text/html": [
       "Tracking run with wandb version 0.18.5"
      ],
      "text/plain": [
       "<IPython.core.display.HTML object>"
      ]
     },
     "metadata": {},
     "output_type": "display_data"
    },
    {
     "data": {
      "text/html": [
       "Run data is saved locally in <code>/Users/samharshe/Documents/Programming/TBN/wandb/run-20241024_113211-z7w1snvn</code>"
      ],
      "text/plain": [
       "<IPython.core.display.HTML object>"
      ]
     },
     "metadata": {},
     "output_type": "display_data"
    },
    {
     "data": {
      "text/html": [
       "Syncing run <strong><a href='https://wandb.ai/sharshe/TBN-memorize/runs/z7w1snvn' target=\"_blank\">polar-pine-11</a></strong> to <a href='https://wandb.ai/sharshe/TBN-memorize' target=\"_blank\">Weights & Biases</a> (<a href='https://wandb.me/run' target=\"_blank\">docs</a>)<br/>"
      ],
      "text/plain": [
       "<IPython.core.display.HTML object>"
      ]
     },
     "metadata": {},
     "output_type": "display_data"
    },
    {
     "data": {
      "text/html": [
       " View project at <a href='https://wandb.ai/sharshe/TBN-memorize' target=\"_blank\">https://wandb.ai/sharshe/TBN-memorize</a>"
      ],
      "text/plain": [
       "<IPython.core.display.HTML object>"
      ]
     },
     "metadata": {},
     "output_type": "display_data"
    },
    {
     "data": {
      "text/html": [
       " View run at <a href='https://wandb.ai/sharshe/TBN-memorize/runs/z7w1snvn' target=\"_blank\">https://wandb.ai/sharshe/TBN-memorize/runs/z7w1snvn</a>"
      ],
      "text/plain": [
       "<IPython.core.display.HTML object>"
      ]
     },
     "metadata": {},
     "output_type": "display_data"
    },
    {
     "name": "stderr",
     "output_type": "stream",
     "text": [
      "\u001b[34m\u001b[1mwandb\u001b[0m: logging graph, to disable use `wandb.watch(log_graph=False)`\n",
      "/Users/samharshe/Documents/Programming/TBN/run/scripts.py:310: UserWarning: std(): degrees of freedom is <= 0. Correction should be strictly less than the reduction factor (input numel divided by output numel). (Triggered internally at /Users/runner/miniforge3/conda-bld/libtorch_1724557174346/work/aten/src/ATen/native/ReduceOps.cpp:1808.)\n",
      "  f.write(f\"  std: {grad.std():.4f}\\n\")\n",
      "/Users/samharshe/Documents/Programming/TBN/run/scripts.py:321: UserWarning: std(): degrees of freedom is <= 0. Correction should be strictly less than the reduction factor (input numel divided by output numel). (Triggered internally at /Users/runner/miniforge3/conda-bld/libtorch_1724557174346/work/aten/src/ATen/native/ReduceOps.cpp:1808.)\n",
      "  f.write(f\"  std: {param.std().item():.4f}\\n\")\n"
     ]
    },
    {
     "data": {
      "application/vnd.jupyter.widget-view+json": {
       "model_id": "b3fa0e59d39841559ea07e99a3b54499",
       "version_major": 2,
       "version_minor": 0
      },
      "text/plain": [
       "VBox(children=(Label(value='0.006 MB of 0.006 MB uploaded\\r'), FloatProgress(value=1.0, max=1.0)))"
      ]
     },
     "metadata": {},
     "output_type": "display_data"
    },
    {
     "data": {
      "text/html": [
       "<style>\n",
       "    table.wandb td:nth-child(1) { padding: 0 10px; text-align: left ; width: auto;} td:nth-child(2) {text-align: left ; width: 100%}\n",
       "    .wandb-row { display: flex; flex-direction: row; flex-wrap: wrap; justify-content: flex-start; width: 100% }\n",
       "    .wandb-col { display: flex; flex-direction: column; flex-basis: 100%; flex: 1; padding: 10px; }\n",
       "    </style>\n",
       "<div class=\"wandb-row\"><div class=\"wandb-col\"><h3>Run history:</h3><br/><table class=\"wandb\"><tr><td>batch_size</td><td>▁</td></tr><tr><td>train_loss</td><td>█▇▇▅▄▃▃▃▃▃▂▂▂▂▂▂▂▂▂▂▂▂▁▁▁▁▁▁▁▁▁▁▁▁▁▁▁▁▁▁</td></tr></table><br/></div><div class=\"wandb-col\"><h3>Run summary:</h3><br/><table class=\"wandb\"><tr><td>batch_size</td><td>1</td></tr><tr><td>train_loss</td><td>0.00535</td></tr></table><br/></div></div>"
      ],
      "text/plain": [
       "<IPython.core.display.HTML object>"
      ]
     },
     "metadata": {},
     "output_type": "display_data"
    },
    {
     "data": {
      "text/html": [
       " View run <strong style=\"color:#cdcd00\">polar-pine-11</strong> at: <a href='https://wandb.ai/sharshe/TBN-memorize/runs/z7w1snvn' target=\"_blank\">https://wandb.ai/sharshe/TBN-memorize/runs/z7w1snvn</a><br/> View project at: <a href='https://wandb.ai/sharshe/TBN-memorize' target=\"_blank\">https://wandb.ai/sharshe/TBN-memorize</a><br/>Synced 5 W&B file(s), 0 media file(s), 2 artifact file(s) and 1 other file(s)"
      ],
      "text/plain": [
       "<IPython.core.display.HTML object>"
      ]
     },
     "metadata": {},
     "output_type": "display_data"
    },
    {
     "data": {
      "text/html": [
       "Find logs at: <code>./wandb/run-20241024_113211-z7w1snvn/logs</code>"
      ],
      "text/plain": [
       "<IPython.core.display.HTML object>"
      ]
     },
     "metadata": {},
     "output_type": "display_data"
    },
    {
     "name": "stdout",
     "output_type": "stream",
     "text": [
      "final prediction: model(x)\n",
      "[[0.006074778735637665, 0.21106240153312683, 0.10698794573545456, 0.19417718052864075, 0.01643683761358261, 0.04157187044620514, 0.09421805292367935, 0.5804641842842102, 0.14363598823547363, 0.4998839199542999, 0.013737909495830536, 0.17591530084609985, 0.2793152332305908, 0.004050053656101227, 0.05404914170503616, 0.3675192594528198, 0.00480274111032486, 0.1519593596458435, 0.1395774483680725, 0.03977551311254501, 0.3700190782546997, -0.024095989763736725, 0.004550062119960785, 0.21488726139068604, -0.00014811009168624878, -0.00014811009168624878, -0.00014811009168624878, -0.00014811009168624878]]\n",
      "actual value: y\n",
      "[[0.0, 0.2876712381839752, 0.19178082048892975, 0.054794520139694214, 0.08219178020954132, 0.054794520139694214, 0.0, 0.6849315166473389, 0.09589041024446487, 0.3835616409778595, 0.06849315017461777, 0.232876718044281, 0.3835616409778595, 0.027397260069847107, 0.0, 0.19178082048892975, 0.0, 0.2602739632129669, 0.09589041024446487, 0.0, 0.36986300349235535, 0.054794520139694214, 0.0, 0.15068493783473969, 0.0, 0.0, 0.0, 0.0]]\n",
      "final loss: 0.0053\n"
     ]
    },
    {
     "data": {
      "image/png": "[encoded data removed]",
      "text/plain": [
       "<Figure size 640x480 with 1 Axes>"
      ]
     },
     "metadata": {},
     "output_type": "display_data"
    }
   ],
   "source": [
    "check_memory(model=model, dataloader=tdl, n_epochs=1000, batch_size=1, lr=3e-4)"
   ]
  },
  {
   "cell_type": "code",
   "execution_count": 16,
   "metadata": {},
   "outputs": [],
   "source": [
    "optimizer = Adam(model.parameters(), lr=3e-4)\n",
    "loss_fn = MSELoss()\n",
    "scheduler = ReduceLROnPlateau(optimizer, mode='min', factor=0.5, patience=2)\n",
    "n_epochs = cfg_dict['n_epochs']"
   ]
  },
  {
   "cell_type": "code",
   "execution_count": 17,
   "metadata": {},
   "outputs": [
    {
     "data": {
      "text/html": [
       "Tracking run with wandb version 0.18.5"
      ],
      "text/plain": [
       "<IPython.core.display.HTML object>"
      ]
     },
     "metadata": {},
     "output_type": "display_data"
    },
    {
     "data": {
      "text/html": [
       "Run data is saved locally in <code>/Users/samharshe/Documents/Programming/TBN/wandb/run-20241023_190444-v0ll7keb</code>"
      ],
      "text/plain": [
       "<IPython.core.display.HTML object>"
      ]
     },
     "metadata": {},
     "output_type": "display_data"
    },
    {
     "data": {
      "text/html": [
       "Syncing run <strong><a href='https://wandb.ai/sharshe/TBN/runs/v0ll7keb' target=\"_blank\">vivid-night-78</a></strong> to <a href='https://wandb.ai/sharshe/TBN' target=\"_blank\">Weights & Biases</a> (<a href='https://wandb.me/run' target=\"_blank\">docs</a>)<br/>"
      ],
      "text/plain": [
       "<IPython.core.display.HTML object>"
      ]
     },
     "metadata": {},
     "output_type": "display_data"
    },
    {
     "data": {
      "text/html": [
       " View project at <a href='https://wandb.ai/sharshe/TBN' target=\"_blank\">https://wandb.ai/sharshe/TBN</a>"
      ],
      "text/plain": [
       "<IPython.core.display.HTML object>"
      ]
     },
     "metadata": {},
     "output_type": "display_data"
    },
    {
     "data": {
      "text/html": [
       " View run at <a href='https://wandb.ai/sharshe/TBN/runs/v0ll7keb' target=\"_blank\">https://wandb.ai/sharshe/TBN/runs/v0ll7keb</a>"
      ],
      "text/plain": [
       "<IPython.core.display.HTML object>"
      ]
     },
     "metadata": {},
     "output_type": "display_data"
    },
    {
     "name": "stderr",
     "output_type": "stream",
     "text": [
      "\u001b[34m\u001b[1mwandb\u001b[0m: logging graph, to disable use `wandb.watch(log_graph=False)`\n"
     ]
    },
    {
     "name": "stdout",
     "output_type": "stream",
     "text": [
      "EPOCH 1 OF 10 | electricity | TRAIN MEAN LOSS: 0.010510 | VAL MEAN LOSS: 0.006746\n",
      "EPOCH 2 OF 10 | electricity | TRAIN MEAN LOSS: 0.006352 | VAL MEAN LOSS: 0.006319\n",
      "EPOCH 3 OF 10 | electricity | TRAIN MEAN LOSS: 0.005860 | VAL MEAN LOSS: 0.006058\n",
      "EPOCH 4 OF 10 | electricity | TRAIN MEAN LOSS: 0.005753 | VAL MEAN LOSS: 0.005263\n",
      "EPOCH 5 OF 10 | electricity | TRAIN MEAN LOSS: 0.005591 | VAL MEAN LOSS: 0.005549\n",
      "EPOCH 6 OF 10 | electricity | TRAIN MEAN LOSS: 0.005553 | VAL MEAN LOSS: 0.005444\n",
      "EPOCH 7 OF 10 | electricity | TRAIN MEAN LOSS: 0.005341 | VAL MEAN LOSS: 0.005135\n",
      "EPOCH 8 OF 10 | electricity | TRAIN MEAN LOSS: 0.005402 | VAL MEAN LOSS: 0.005172\n",
      "EPOCH 9 OF 10 | electricity | TRAIN MEAN LOSS: 0.005382 | VAL MEAN LOSS: 0.005542\n",
      "EPOCH 10 OF 10 | electricity | TRAIN MEAN LOSS: 0.005435 | VAL MEAN LOSS: 0.005445\n"
     ]
    },
    {
     "data": {
      "image/png": "[encoded data removed]",
      "text/plain": [
       "<Figure size 640x480 with 1 Axes>"
      ]
     },
     "metadata": {},
     "output_type": "display_data"
    },
    {
     "name": "stdout",
     "output_type": "stream",
     "text": [
      "TEST MEAN LOSS: 0.005598\n",
      "TEST ACCURACY: 0.556439\n"
     ]
    },
    {
     "data": {
      "application/vnd.jupyter.widget-view+json": {
       "model_id": "e7014eabdae84a00ae6939e593f0f2c3",
       "version_major": 2,
       "version_minor": 0
      },
      "text/plain": [
       "VBox(children=(Label(value='0.070 MB of 0.070 MB uploaded\\r'), FloatProgress(value=1.0, max=1.0)))"
      ]
     },
     "metadata": {},
     "output_type": "display_data"
    },
    {
     "data": {
      "text/html": [
       "<style>\n",
       "    table.wandb td:nth-child(1) { padding: 0 10px; text-align: left ; width: auto;} td:nth-child(2) {text-align: left ; width: 100%}\n",
       "    .wandb-row { display: flex; flex-direction: row; flex-wrap: wrap; justify-content: flex-start; width: 100% }\n",
       "    .wandb-col { display: flex; flex-direction: column; flex-basis: 100%; flex: 1; padding: 10px; }\n",
       "    </style>\n",
       "<div class=\"wandb-row\"><div class=\"wandb-col\"><h3>Run history:</h3><br/><table class=\"wandb\"><tr><td>learning_rate</td><td>▁▁▁▁▁▁▁▁▁▁</td></tr><tr><td>test_accuracy</td><td>▁</td></tr><tr><td>test_mean_loss</td><td>▁</td></tr><tr><td>train_mean_loss</td><td>█▂▂▂▁▁▁▁▁▁</td></tr><tr><td>val_mean_loss</td><td>█▆▅▂▃▂▁▁▃▂</td></tr></table><br/></div><div class=\"wandb-col\"><h3>Run summary:</h3><br/><table class=\"wandb\"><tr><td>learning_rate</td><td>0.0003</td></tr><tr><td>test_accuracy</td><td>0.55644</td></tr><tr><td>test_mean_loss</td><td>0.0056</td></tr><tr><td>train_mean_loss</td><td>0.00543</td></tr><tr><td>val_mean_loss</td><td>0.00544</td></tr></table><br/></div></div>"
      ],
      "text/plain": [
       "<IPython.core.display.HTML object>"
      ]
     },
     "metadata": {},
     "output_type": "display_data"
    },
    {
     "data": {
      "text/html": [
       " View run <strong style=\"color:#cdcd00\">vivid-night-78</strong> at: <a href='https://wandb.ai/sharshe/TBN/runs/v0ll7keb' target=\"_blank\">https://wandb.ai/sharshe/TBN/runs/v0ll7keb</a><br/> View project at: <a href='https://wandb.ai/sharshe/TBN' target=\"_blank\">https://wandb.ai/sharshe/TBN</a><br/>Synced 4 W&B file(s), 0 media file(s), 3 artifact file(s) and 1 other file(s)"
      ],
      "text/plain": [
       "<IPython.core.display.HTML object>"
      ]
     },
     "metadata": {},
     "output_type": "display_data"
    },
    {
     "data": {
      "text/html": [
       "Find logs at: <code>./wandb/run-20241023_190444-v0ll7keb/logs</code>"
      ],
      "text/plain": [
       "<IPython.core.display.HTML object>"
      ]
     },
     "metadata": {},
     "output_type": "display_data"
    }
   ],
   "source": [
    "train_test(model=model, optimizer=optimizer, scheduler=scheduler, loss_fn=loss_fn, train_dataloader=train_score_dataloader, val_dataloader=val_score_dataloader, test_dataloader=test_score_dataloader, cfg_dict=cfg_dict)"
   ]
  },
  {
   "cell_type": "code",
   "execution_count": null,
   "metadata": {},
   "outputs": [],
   "source": [
    "cfg_dict.update({\n",
    "    'train_split': 0.08,\n",
    "    'val_split': 0.01,\n",
    "    'test_split': 0.01\n",
    "})\n",
    "train_test(model=model, optimizer=optimizer, scheduler=scheduler, loss_fn=loss_fn, train_dataloader=mini_train_score_dataloader, val_dataloader=mini_val_score_dataloader, test_dataloader=mini_test_score_dataloader, cfg_dict=cfg_dict)\n",
    "cfg_dict.update({\n",
    "    'train_split': 0.8,\n",
    "    'val_split': 0.1,\n",
    "    'test_split': 0.1\n",
    "})"
   ]
  }
 ],
 "metadata": {
  "kernelspec": {
   "display_name": "TBN",
   "language": "python",
   "name": "python3"
  },
  "language_info": {
   "codemirror_mode": {
    "name": "ipython",
    "version": 3
   },
   "file_extension": ".py",
   "mimetype": "text/x-python",
   "name": "python",
   "nbconvert_exporter": "python",
   "pygments_lexer": "ipython3",
   "version": "3.10.14"
  }
 },
 "nbformat": 4,
 "nbformat_minor": 2
}
