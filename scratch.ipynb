{
 "cells": [
  {
   "cell_type": "code",
   "execution_count": 1,
   "metadata": {},
   "outputs": [],
   "source": [
    "%load_ext autoreload\n",
    "%autoreload 2"
   ]
  },
  {
   "cell_type": "code",
   "execution_count": 3,
   "metadata": {},
   "outputs": [],
   "source": [
    "from src.data import data as data_utils\n",
    "from src.data import players_score_data as players_score_data_utils\n",
    "from src.ml import model as model_utils\n",
    "from run import scripts\n",
    "import torch\n",
    "from torch import nn\n",
    "from torch import optim\n",
    "from torch.optim import lr_scheduler\n",
    "\n",
    "torch.manual_seed(2002);"
   ]
  },
  {
   "cell_type": "code",
   "execution_count": 8,
   "metadata": {},
   "outputs": [
    {
     "name": "stderr",
     "output_type": "stream",
     "text": [
      "/Users/sharshe/Documents/TBN/src/data/data.py:327: FutureWarning: You are using `torch.load` with `weights_only=False` (the current default value), which uses the default pickle module implicitly. It is possible to construct malicious pickle data which will execute arbitrary code during unpickling (See https://github.com/pytorch/pytorch/blob/main/SECURITY.md#untrusted-models for more details). In a future release, the default value for `weights_only` will be flipped to `True`. This limits the functions that could be executed during unpickling. Arbitrary objects will no longer be allowed to be loaded via this mode unless they are explicitly allowlisted by the user via `torch.serialization.add_safe_globals`. We recommend you start setting `weights_only=True` for any use case where you don't have full control of the loaded file. Please open an issue on GitHub for any issues related to this experimental feature.\n",
      "  return torch.load(dataloaders_path)\n"
     ]
    }
   ],
   "source": [
    "train_dataloader, val_dataloader, test_dataloader = data_utils.dataloaders(name='elephant', x_version=['players', 'teams'], y_version='score', train_split=0.8, val_split=0.1, test_split=0.1, batch_size=32, engineered=True)"
   ]
  },
  {
   "cell_type": "code",
   "execution_count": 9,
   "metadata": {},
   "outputs": [
    {
     "name": "stdout",
     "output_type": "stream",
     "text": [
      "len(padded_inputs_list) 1\n",
      "len(padded_inputs) 2\n",
      "2\n"
     ]
    },
    {
     "ename": "IndexError",
     "evalue": "list index out of range",
     "output_type": "error",
     "traceback": [
      "\u001b[0;31m---------------------------------------------------------------------------\u001b[0m",
      "\u001b[0;31mIndexError\u001b[0m                                Traceback (most recent call last)",
      "Cell \u001b[0;32mIn[9], line 1\u001b[0m\n\u001b[0;32m----> 1\u001b[0m x, y \u001b[38;5;241m=\u001b[39m \u001b[38;5;28;43mnext\u001b[39;49m\u001b[43m(\u001b[49m\u001b[38;5;28;43miter\u001b[39;49m\u001b[43m(\u001b[49m\u001b[43mtrain_dataloader\u001b[49m\u001b[43m)\u001b[49m\u001b[43m)\u001b[49m\n",
      "File \u001b[0;32m~/anaconda3/envs/TBN/lib/python3.11/site-packages/torch/utils/data/dataloader.py:701\u001b[0m, in \u001b[0;36m_BaseDataLoaderIter.__next__\u001b[0;34m(self)\u001b[0m\n\u001b[1;32m    698\u001b[0m \u001b[38;5;28;01mif\u001b[39;00m \u001b[38;5;28mself\u001b[39m\u001b[38;5;241m.\u001b[39m_sampler_iter \u001b[38;5;129;01mis\u001b[39;00m \u001b[38;5;28;01mNone\u001b[39;00m:\n\u001b[1;32m    699\u001b[0m     \u001b[38;5;66;03m# TODO(https://github.com/pytorch/pytorch/issues/76750)\u001b[39;00m\n\u001b[1;32m    700\u001b[0m     \u001b[38;5;28mself\u001b[39m\u001b[38;5;241m.\u001b[39m_reset()  \u001b[38;5;66;03m# type: ignore[call-arg]\u001b[39;00m\n\u001b[0;32m--> 701\u001b[0m data \u001b[38;5;241m=\u001b[39m \u001b[38;5;28;43mself\u001b[39;49m\u001b[38;5;241;43m.\u001b[39;49m\u001b[43m_next_data\u001b[49m\u001b[43m(\u001b[49m\u001b[43m)\u001b[49m\n\u001b[1;32m    702\u001b[0m \u001b[38;5;28mself\u001b[39m\u001b[38;5;241m.\u001b[39m_num_yielded \u001b[38;5;241m+\u001b[39m\u001b[38;5;241m=\u001b[39m \u001b[38;5;241m1\u001b[39m\n\u001b[1;32m    703\u001b[0m \u001b[38;5;28;01mif\u001b[39;00m (\n\u001b[1;32m    704\u001b[0m     \u001b[38;5;28mself\u001b[39m\u001b[38;5;241m.\u001b[39m_dataset_kind \u001b[38;5;241m==\u001b[39m _DatasetKind\u001b[38;5;241m.\u001b[39mIterable\n\u001b[1;32m    705\u001b[0m     \u001b[38;5;129;01mand\u001b[39;00m \u001b[38;5;28mself\u001b[39m\u001b[38;5;241m.\u001b[39m_IterableDataset_len_called \u001b[38;5;129;01mis\u001b[39;00m \u001b[38;5;129;01mnot\u001b[39;00m \u001b[38;5;28;01mNone\u001b[39;00m\n\u001b[1;32m    706\u001b[0m     \u001b[38;5;129;01mand\u001b[39;00m \u001b[38;5;28mself\u001b[39m\u001b[38;5;241m.\u001b[39m_num_yielded \u001b[38;5;241m>\u001b[39m \u001b[38;5;28mself\u001b[39m\u001b[38;5;241m.\u001b[39m_IterableDataset_len_called\n\u001b[1;32m    707\u001b[0m ):\n",
      "File \u001b[0;32m~/anaconda3/envs/TBN/lib/python3.11/site-packages/torch/utils/data/dataloader.py:757\u001b[0m, in \u001b[0;36m_SingleProcessDataLoaderIter._next_data\u001b[0;34m(self)\u001b[0m\n\u001b[1;32m    755\u001b[0m \u001b[38;5;28;01mdef\u001b[39;00m \u001b[38;5;21m_next_data\u001b[39m(\u001b[38;5;28mself\u001b[39m):\n\u001b[1;32m    756\u001b[0m     index \u001b[38;5;241m=\u001b[39m \u001b[38;5;28mself\u001b[39m\u001b[38;5;241m.\u001b[39m_next_index()  \u001b[38;5;66;03m# may raise StopIteration\u001b[39;00m\n\u001b[0;32m--> 757\u001b[0m     data \u001b[38;5;241m=\u001b[39m \u001b[38;5;28;43mself\u001b[39;49m\u001b[38;5;241;43m.\u001b[39;49m\u001b[43m_dataset_fetcher\u001b[49m\u001b[38;5;241;43m.\u001b[39;49m\u001b[43mfetch\u001b[49m\u001b[43m(\u001b[49m\u001b[43mindex\u001b[49m\u001b[43m)\u001b[49m  \u001b[38;5;66;03m# may raise StopIteration\u001b[39;00m\n\u001b[1;32m    758\u001b[0m     \u001b[38;5;28;01mif\u001b[39;00m \u001b[38;5;28mself\u001b[39m\u001b[38;5;241m.\u001b[39m_pin_memory:\n\u001b[1;32m    759\u001b[0m         data \u001b[38;5;241m=\u001b[39m _utils\u001b[38;5;241m.\u001b[39mpin_memory\u001b[38;5;241m.\u001b[39mpin_memory(data, \u001b[38;5;28mself\u001b[39m\u001b[38;5;241m.\u001b[39m_pin_memory_device)\n",
      "File \u001b[0;32m~/anaconda3/envs/TBN/lib/python3.11/site-packages/torch/utils/data/_utils/fetch.py:55\u001b[0m, in \u001b[0;36m_MapDatasetFetcher.fetch\u001b[0;34m(self, possibly_batched_index)\u001b[0m\n\u001b[1;32m     53\u001b[0m \u001b[38;5;28;01melse\u001b[39;00m:\n\u001b[1;32m     54\u001b[0m     data \u001b[38;5;241m=\u001b[39m \u001b[38;5;28mself\u001b[39m\u001b[38;5;241m.\u001b[39mdataset[possibly_batched_index]\n\u001b[0;32m---> 55\u001b[0m \u001b[38;5;28;01mreturn\u001b[39;00m \u001b[38;5;28;43mself\u001b[39;49m\u001b[38;5;241;43m.\u001b[39;49m\u001b[43mcollate_fn\u001b[49m\u001b[43m(\u001b[49m\u001b[43mdata\u001b[49m\u001b[43m)\u001b[49m\n",
      "File \u001b[0;32m~/Documents/TBN/src/data/data.py:216\u001b[0m, in \u001b[0;36mcustom_collate\u001b[0;34m(batch)\u001b[0m\n\u001b[1;32m    214\u001b[0m     padded_target \u001b[38;5;241m=\u001b[39m torch\u001b[38;5;241m.\u001b[39mcat([target, target_padding], dim\u001b[38;5;241m=\u001b[39m\u001b[38;5;241m0\u001b[39m)\n\u001b[1;32m    215\u001b[0m     \u001b[38;5;28mprint\u001b[39m(\u001b[38;5;28mlen\u001b[39m(padded_inputs))\n\u001b[0;32m--> 216\u001b[0m     \u001b[43m[\u001b[49m\u001b[43mpadded_inputs_list\u001b[49m\u001b[43m[\u001b[49m\u001b[43mi\u001b[49m\u001b[43m]\u001b[49m\u001b[38;5;241;43m.\u001b[39;49m\u001b[43mappend\u001b[49m\u001b[43m(\u001b[49m\u001b[43mpadded_inputs\u001b[49m\u001b[43m[\u001b[49m\u001b[43mi\u001b[49m\u001b[43m]\u001b[49m\u001b[43m)\u001b[49m\u001b[43m \u001b[49m\u001b[38;5;28;43;01mfor\u001b[39;49;00m\u001b[43m \u001b[49m\u001b[43mi\u001b[49m\u001b[43m \u001b[49m\u001b[38;5;129;43;01min\u001b[39;49;00m\u001b[43m \u001b[49m\u001b[38;5;28;43mrange\u001b[39;49m\u001b[43m(\u001b[49m\u001b[38;5;28;43mlen\u001b[39;49m\u001b[43m(\u001b[49m\u001b[43mpadded_inputs\u001b[49m\u001b[43m)\u001b[49m\u001b[43m)\u001b[49m\u001b[43m]\u001b[49m\n\u001b[1;32m    217\u001b[0m     padded_targets\u001b[38;5;241m.\u001b[39mappend(padded_target)\n\u001b[1;32m    219\u001b[0m \u001b[38;5;66;03m# turn batch list into tensor\u001b[39;00m\n",
      "File \u001b[0;32m~/Documents/TBN/src/data/data.py:216\u001b[0m, in \u001b[0;36m<listcomp>\u001b[0;34m(.0)\u001b[0m\n\u001b[1;32m    214\u001b[0m     padded_target \u001b[38;5;241m=\u001b[39m torch\u001b[38;5;241m.\u001b[39mcat([target, target_padding], dim\u001b[38;5;241m=\u001b[39m\u001b[38;5;241m0\u001b[39m)\n\u001b[1;32m    215\u001b[0m     \u001b[38;5;28mprint\u001b[39m(\u001b[38;5;28mlen\u001b[39m(padded_inputs))\n\u001b[0;32m--> 216\u001b[0m     [\u001b[43mpadded_inputs_list\u001b[49m\u001b[43m[\u001b[49m\u001b[43mi\u001b[49m\u001b[43m]\u001b[49m\u001b[38;5;241m.\u001b[39mappend(padded_inputs[i]) \u001b[38;5;28;01mfor\u001b[39;00m i \u001b[38;5;129;01min\u001b[39;00m \u001b[38;5;28mrange\u001b[39m(\u001b[38;5;28mlen\u001b[39m(padded_inputs))]\n\u001b[1;32m    217\u001b[0m     padded_targets\u001b[38;5;241m.\u001b[39mappend(padded_target)\n\u001b[1;32m    219\u001b[0m \u001b[38;5;66;03m# turn batch list into tensor\u001b[39;00m\n",
      "\u001b[0;31mIndexError\u001b[0m: list index out of range"
     ]
    }
   ],
   "source": [
    "x, y = next(iter(train_dataloader))"
   ]
  },
  {
   "cell_type": "code",
   "execution_count": 31,
   "metadata": {},
   "outputs": [
    {
     "name": "stderr",
     "output_type": "stream",
     "text": [
      "/Users/sharshe/Documents/TBN/src/data/data.py:313: FutureWarning: You are using `torch.load` with `weights_only=False` (the current default value), which uses the default pickle module implicitly. It is possible to construct malicious pickle data which will execute arbitrary code during unpickling (See https://github.com/pytorch/pytorch/blob/main/SECURITY.md#untrusted-models for more details). In a future release, the default value for `weights_only` will be flipped to `True`. This limits the functions that could be executed during unpickling. Arbitrary objects will no longer be allowed to be loaded via this mode unless they are explicitly allowlisted by the user via `torch.serialization.add_safe_globals`. We recommend you start setting `weights_only=True` for any use case where you don't have full control of the loaded file. Please open an issue on GitHub for any issues related to this experimental feature.\n",
      "  return torch.load(dataloaders_path)\n"
     ]
    }
   ],
   "source": [
    "train_dataloader, val_dataloader, test_dataloader = data_utils.dataloaders(name='elephant', x_version=['players'], y_version='score', train_split=0.8, val_split=0.1, test_split=0.1, batch_size=32)"
   ]
  },
  {
   "cell_type": "code",
   "execution_count": 28,
   "metadata": {},
   "outputs": [
    {
     "name": "stdout",
     "output_type": "stream",
     "text": [
      "elephant_players_score_0.8_0.1_0.1_32\n"
     ]
    },
    {
     "ename": "Exception",
     "evalue": "keep going!",
     "output_type": "error",
     "traceback": [
      "\u001b[0;31m---------------------------------------------------------------------------\u001b[0m",
      "\u001b[0;31mException\u001b[0m                                 Traceback (most recent call last)",
      "Cell \u001b[0;32mIn[28], line 1\u001b[0m\n\u001b[0;32m----> 1\u001b[0m train_dataloader, val_dataloader, test_dataloader \u001b[38;5;241m=\u001b[39m \u001b[43mdata_utils\u001b[49m\u001b[38;5;241;43m.\u001b[39;49m\u001b[43mdataloaders\u001b[49m\u001b[43m(\u001b[49m\u001b[43mname\u001b[49m\u001b[38;5;241;43m=\u001b[39;49m\u001b[38;5;124;43m'\u001b[39;49m\u001b[38;5;124;43melephant\u001b[39;49m\u001b[38;5;124;43m'\u001b[39;49m\u001b[43m,\u001b[49m\u001b[43m \u001b[49m\u001b[43mx_version\u001b[49m\u001b[38;5;241;43m=\u001b[39;49m\u001b[38;5;124;43m'\u001b[39;49m\u001b[38;5;124;43mplayers\u001b[39;49m\u001b[38;5;124;43m'\u001b[39;49m\u001b[43m,\u001b[49m\u001b[43m \u001b[49m\u001b[43my_version\u001b[49m\u001b[38;5;241;43m=\u001b[39;49m\u001b[38;5;124;43m'\u001b[39;49m\u001b[38;5;124;43mscore\u001b[39;49m\u001b[38;5;124;43m'\u001b[39;49m\u001b[43m,\u001b[49m\u001b[43m \u001b[49m\u001b[43mtrain_split\u001b[49m\u001b[38;5;241;43m=\u001b[39;49m\u001b[38;5;241;43m0.8\u001b[39;49m\u001b[43m,\u001b[49m\u001b[43m \u001b[49m\u001b[43mval_split\u001b[49m\u001b[38;5;241;43m=\u001b[39;49m\u001b[38;5;241;43m0.1\u001b[39;49m\u001b[43m,\u001b[49m\u001b[43m \u001b[49m\u001b[43mtest_split\u001b[49m\u001b[38;5;241;43m=\u001b[39;49m\u001b[38;5;241;43m0.1\u001b[39;49m\u001b[43m,\u001b[49m\u001b[43m \u001b[49m\u001b[43mbatch_size\u001b[49m\u001b[38;5;241;43m=\u001b[39;49m\u001b[38;5;241;43m32\u001b[39;49m\u001b[43m)\u001b[49m\n",
      "File \u001b[0;32m~/Documents/TBN/src/data/data.py:307\u001b[0m, in \u001b[0;36mdataloaders\u001b[0;34m(name, x_version, y_version, train_split, val_split, test_split, batch_size, simple, engineered)\u001b[0m\n\u001b[1;32m    305\u001b[0m dataset_spec \u001b[38;5;241m=\u001b[39m \u001b[38;5;124mf\u001b[39m\u001b[38;5;124m'\u001b[39m\u001b[38;5;132;01m{\u001b[39;00mname\u001b[38;5;132;01m}\u001b[39;00m\u001b[38;5;124m_\u001b[39m\u001b[38;5;132;01m{\u001b[39;00mx_version_spec\u001b[38;5;132;01m}\u001b[39;00m\u001b[38;5;124m_\u001b[39m\u001b[38;5;132;01m{\u001b[39;00my_version\u001b[38;5;132;01m}\u001b[39;00m\u001b[38;5;124m_\u001b[39m\u001b[38;5;132;01m{\u001b[39;00mtrain_split\u001b[38;5;132;01m}\u001b[39;00m\u001b[38;5;124m_\u001b[39m\u001b[38;5;132;01m{\u001b[39;00mval_split\u001b[38;5;132;01m}\u001b[39;00m\u001b[38;5;124m_\u001b[39m\u001b[38;5;132;01m{\u001b[39;00mtest_split\u001b[38;5;132;01m}\u001b[39;00m\u001b[38;5;124m_\u001b[39m\u001b[38;5;132;01m{\u001b[39;00mbatch_size\u001b[38;5;132;01m}\u001b[39;00m\u001b[38;5;124m'\u001b[39m\n\u001b[1;32m    306\u001b[0m \u001b[38;5;28mprint\u001b[39m(dataset_spec)\n\u001b[0;32m--> 307\u001b[0m \u001b[38;5;28;01mraise\u001b[39;00m \u001b[38;5;167;01mException\u001b[39;00m(\u001b[38;5;124m'\u001b[39m\u001b[38;5;124mkeep going!\u001b[39m\u001b[38;5;124m'\u001b[39m)\n\u001b[1;32m    310\u001b[0m \u001b[38;5;28;01mif\u001b[39;00m simple:\n\u001b[1;32m    311\u001b[0m     dataset_spec \u001b[38;5;241m+\u001b[39m\u001b[38;5;241m=\u001b[39m \u001b[38;5;124m'\u001b[39m\u001b[38;5;124m_simple\u001b[39m\u001b[38;5;124m'\u001b[39m\n",
      "\u001b[0;31mException\u001b[0m: keep going!"
     ]
    }
   ],
   "source": [
    "train_dataloader, val_dataloader, test_dataloader = data_utils.dataloaders(name='elephant', x_version='players', y_version='score', train_split=0.8, val_split=0.1, test_split=0.1, batch_size=32)"
   ]
  },
  {
   "cell_type": "code",
   "execution_count": 27,
   "metadata": {},
   "outputs": [
    {
     "ename": "NameError",
     "evalue": "name 'train_dataloader' is not defined",
     "output_type": "error",
     "traceback": [
      "\u001b[0;31m---------------------------------------------------------------------------\u001b[0m",
      "\u001b[0;31mNameError\u001b[0m                                 Traceback (most recent call last)",
      "Cell \u001b[0;32mIn[27], line 1\u001b[0m\n\u001b[0;32m----> 1\u001b[0m x, y \u001b[38;5;241m=\u001b[39m \u001b[38;5;28mnext\u001b[39m(\u001b[38;5;28miter\u001b[39m(\u001b[43mtrain_dataloader\u001b[49m))\n",
      "\u001b[0;31mNameError\u001b[0m: name 'train_dataloader' is not defined"
     ]
    }
   ],
   "source": [
    "x, y = next(iter(train_dataloader))"
   ]
  },
  {
   "cell_type": "code",
   "execution_count": 101,
   "metadata": {},
   "outputs": [],
   "source": [
    "cfg_dict = {\n",
    "    'name': 'hannibal',\n",
    "    'dataset_name': 'elephant',\n",
    "    'x_version': 'players',\n",
    "    'y_version': 'player_score',\n",
    "    'batch_size': 32,\n",
    "    'train_split': 0.8,\n",
    "    'val_split': 0.1,\n",
    "    'test_split': 0.1,\n",
    "    'n_epochs': 50,\n",
    "    'loss_fn': 'MSELoss',\n",
    "    'optimizer': 'Adam',\n",
    "    'scheduler': 'ReduceLROnPlateau',\n",
    "    'model': 'PlayerScoreModel',\n",
    "    'd_mod': 64\n",
    "}"
   ]
  },
  {
   "cell_type": "code",
   "execution_count": 102,
   "metadata": {},
   "outputs": [
    {
     "name": "stderr",
     "output_type": "stream",
     "text": [
      "/Users/sharshe/Documents/TBN/src/data/players_score_data.py:13: FutureWarning: You are using `torch.load` with `weights_only=False` (the current default value), which uses the default pickle module implicitly. It is possible to construct malicious pickle data which will execute arbitrary code during unpickling (See https://github.com/pytorch/pytorch/blob/main/SECURITY.md#untrusted-models for more details). In a future release, the default value for `weights_only` will be flipped to `True`. This limits the functions that could be executed during unpickling. Arbitrary objects will no longer be allowed to be loaded via this mode unless they are explicitly allowlisted by the user via `torch.serialization.add_safe_globals`. We recommend you start setting `weights_only=True` for any use case where you don't have full control of the loaded file. Please open an issue on GitHub for any issues related to this experimental feature.\n",
      "  \n"
     ]
    }
   ],
   "source": [
    "train_dataloader, val_dataloader, test_dataloader = players_score_data_utils.dataloaders(name=cfg_dict['dataset_name'], train_split=cfg_dict['train_split'], val_split=cfg_dict['val_split'], test_split=cfg_dict['test_split'], batch_size=cfg_dict['batch_size'])"
   ]
  },
  {
   "cell_type": "code",
   "execution_count": 106,
   "metadata": {},
   "outputs": [],
   "source": [
    "model = model_utils.PlayerScoreModel(d_in=65, d_mod=cfg_dict['d_mod'])"
   ]
  },
  {
   "cell_type": "code",
   "execution_count": 107,
   "metadata": {},
   "outputs": [],
   "source": [
    "optimizer = optim.Adam(model.parameters(), lr=1e-3)\n",
    "scheduler = lr_scheduler.ReduceLROnPlateau(optimizer, mode='min', factor=0.1, patience=4)\n",
    "loss_fn = nn.MSELoss()"
   ]
  },
  {
   "cell_type": "code",
   "execution_count": 108,
   "metadata": {},
   "outputs": [
    {
     "data": {
      "text/html": [
       "Tracking run with wandb version 0.18.5"
      ],
      "text/plain": [
       "<IPython.core.display.HTML object>"
      ]
     },
     "metadata": {},
     "output_type": "display_data"
    },
    {
     "data": {
      "text/html": [
       "Run data is saved locally in <code>/Users/sharshe/Documents/TBN/wandb/run-20241025_130409-1m1sg69t</code>"
      ],
      "text/plain": [
       "<IPython.core.display.HTML object>"
      ]
     },
     "metadata": {},
     "output_type": "display_data"
    },
    {
     "data": {
      "text/html": [
       "Syncing run <strong><a href='https://wandb.ai/sharshe/TBN/runs/1m1sg69t' target=\"_blank\">smart-oath-91</a></strong> to <a href='https://wandb.ai/sharshe/TBN' target=\"_blank\">Weights & Biases</a> (<a href='https://wandb.me/run' target=\"_blank\">docs</a>)<br/>"
      ],
      "text/plain": [
       "<IPython.core.display.HTML object>"
      ]
     },
     "metadata": {},
     "output_type": "display_data"
    },
    {
     "data": {
      "text/html": [
       " View project at <a href='https://wandb.ai/sharshe/TBN' target=\"_blank\">https://wandb.ai/sharshe/TBN</a>"
      ],
      "text/plain": [
       "<IPython.core.display.HTML object>"
      ]
     },
     "metadata": {},
     "output_type": "display_data"
    },
    {
     "data": {
      "text/html": [
       " View run at <a href='https://wandb.ai/sharshe/TBN/runs/1m1sg69t' target=\"_blank\">https://wandb.ai/sharshe/TBN/runs/1m1sg69t</a>"
      ],
      "text/plain": [
       "<IPython.core.display.HTML object>"
      ]
     },
     "metadata": {},
     "output_type": "display_data"
    },
    {
     "name": "stderr",
     "output_type": "stream",
     "text": [
      "\u001b[34m\u001b[1mwandb\u001b[0m: logging graph, to disable use `wandb.watch(log_graph=False)`\n"
     ]
    },
    {
     "name": "stdout",
     "output_type": "stream",
     "text": [
      "EPOCH 1 OF 50 | hannibal | TRAIN MEAN LOSS: 0.026309 | VAL MEAN LOSS: 0.004785\n",
      "EPOCH 2 OF 50 | hannibal | TRAIN MEAN LOSS: 0.004706 | VAL MEAN LOSS: 0.004637\n",
      "EPOCH 3 OF 50 | hannibal | TRAIN MEAN LOSS: 0.004546 | VAL MEAN LOSS: 0.005458\n",
      "EPOCH 4 OF 50 | hannibal | TRAIN MEAN LOSS: 0.004493 | VAL MEAN LOSS: 0.004303\n",
      "EPOCH 5 OF 50 | hannibal | TRAIN MEAN LOSS: 0.004474 | VAL MEAN LOSS: 0.004831\n",
      "EPOCH 6 OF 50 | hannibal | TRAIN MEAN LOSS: 0.004458 | VAL MEAN LOSS: 0.004308\n",
      "EPOCH 7 OF 50 | hannibal | TRAIN MEAN LOSS: 0.004462 | VAL MEAN LOSS: 0.004268\n",
      "EPOCH 8 OF 50 | hannibal | TRAIN MEAN LOSS: 0.004387 | VAL MEAN LOSS: 0.004386\n",
      "EPOCH 9 OF 50 | hannibal | TRAIN MEAN LOSS: 0.004341 | VAL MEAN LOSS: 0.004178\n",
      "EPOCH 10 OF 50 | hannibal | TRAIN MEAN LOSS: 0.004385 | VAL MEAN LOSS: 0.004796\n",
      "EPOCH 11 OF 50 | hannibal | TRAIN MEAN LOSS: 0.004304 | VAL MEAN LOSS: 0.004173\n",
      "EPOCH 12 OF 50 | hannibal | TRAIN MEAN LOSS: 0.004311 | VAL MEAN LOSS: 0.005507\n",
      "EPOCH 13 OF 50 | hannibal | TRAIN MEAN LOSS: 0.004267 | VAL MEAN LOSS: 0.004290\n",
      "EPOCH 14 OF 50 | hannibal | TRAIN MEAN LOSS: 0.004263 | VAL MEAN LOSS: 0.004383\n",
      "EPOCH 15 OF 50 | hannibal | TRAIN MEAN LOSS: 0.004244 | VAL MEAN LOSS: 0.004395\n",
      "EPOCH 16 OF 50 | hannibal | TRAIN MEAN LOSS: 0.004232 | VAL MEAN LOSS: 0.004312\n",
      "EPOCH 17 OF 50 | hannibal | TRAIN MEAN LOSS: 0.004116 | VAL MEAN LOSS: 0.004132\n",
      "EPOCH 18 OF 50 | hannibal | TRAIN MEAN LOSS: 0.004118 | VAL MEAN LOSS: 0.004123\n",
      "EPOCH 19 OF 50 | hannibal | TRAIN MEAN LOSS: 0.004121 | VAL MEAN LOSS: 0.004125\n",
      "EPOCH 20 OF 50 | hannibal | TRAIN MEAN LOSS: 0.004120 | VAL MEAN LOSS: 0.004143\n",
      "EPOCH 21 OF 50 | hannibal | TRAIN MEAN LOSS: 0.004129 | VAL MEAN LOSS: 0.004122\n",
      "EPOCH 22 OF 50 | hannibal | TRAIN MEAN LOSS: 0.004119 | VAL MEAN LOSS: 0.004118\n",
      "EPOCH 23 OF 50 | hannibal | TRAIN MEAN LOSS: 0.004117 | VAL MEAN LOSS: 0.004139\n",
      "EPOCH 24 OF 50 | hannibal | TRAIN MEAN LOSS: 0.004124 | VAL MEAN LOSS: 0.004162\n",
      "EPOCH 25 OF 50 | hannibal | TRAIN MEAN LOSS: 0.004118 | VAL MEAN LOSS: 0.004131\n",
      "EPOCH 26 OF 50 | hannibal | TRAIN MEAN LOSS: 0.004127 | VAL MEAN LOSS: 0.004120\n",
      "EPOCH 27 OF 50 | hannibal | TRAIN MEAN LOSS: 0.004120 | VAL MEAN LOSS: 0.004143\n",
      "EPOCH 28 OF 50 | hannibal | TRAIN MEAN LOSS: 0.004104 | VAL MEAN LOSS: 0.004103\n",
      "EPOCH 29 OF 50 | hannibal | TRAIN MEAN LOSS: 0.004099 | VAL MEAN LOSS: 0.004122\n",
      "EPOCH 30 OF 50 | hannibal | TRAIN MEAN LOSS: 0.004104 | VAL MEAN LOSS: 0.004119\n",
      "EPOCH 31 OF 50 | hannibal | TRAIN MEAN LOSS: 0.004107 | VAL MEAN LOSS: 0.004118\n",
      "EPOCH 32 OF 50 | hannibal | TRAIN MEAN LOSS: 0.004100 | VAL MEAN LOSS: 0.004121\n",
      "EPOCH 33 OF 50 | hannibal | TRAIN MEAN LOSS: 0.004100 | VAL MEAN LOSS: 0.004134\n",
      "EPOCH 34 OF 50 | hannibal | TRAIN MEAN LOSS: 0.004095 | VAL MEAN LOSS: 0.004110\n",
      "EPOCH 35 OF 50 | hannibal | TRAIN MEAN LOSS: 0.004099 | VAL MEAN LOSS: 0.004116\n",
      "EPOCH 36 OF 50 | hannibal | TRAIN MEAN LOSS: 0.004096 | VAL MEAN LOSS: 0.004139\n",
      "EPOCH 37 OF 50 | hannibal | TRAIN MEAN LOSS: 0.004098 | VAL MEAN LOSS: 0.004130\n",
      "EPOCH 38 OF 50 | hannibal | TRAIN MEAN LOSS: 0.004099 | VAL MEAN LOSS: 0.004122\n",
      "EPOCH 39 OF 50 | hannibal | TRAIN MEAN LOSS: 0.004094 | VAL MEAN LOSS: 0.004107\n",
      "EPOCH 40 OF 50 | hannibal | TRAIN MEAN LOSS: 0.004099 | VAL MEAN LOSS: 0.004115\n",
      "EPOCH 41 OF 50 | hannibal | TRAIN MEAN LOSS: 0.004100 | VAL MEAN LOSS: 0.004107\n",
      "EPOCH 42 OF 50 | hannibal | TRAIN MEAN LOSS: 0.004099 | VAL MEAN LOSS: 0.004138\n",
      "EPOCH 43 OF 50 | hannibal | TRAIN MEAN LOSS: 0.004099 | VAL MEAN LOSS: 0.004125\n",
      "EPOCH 44 OF 50 | hannibal | TRAIN MEAN LOSS: 0.004095 | VAL MEAN LOSS: 0.004127\n",
      "EPOCH 45 OF 50 | hannibal | TRAIN MEAN LOSS: 0.004097 | VAL MEAN LOSS: 0.004122\n",
      "EPOCH 46 OF 50 | hannibal | TRAIN MEAN LOSS: 0.004097 | VAL MEAN LOSS: 0.004123\n",
      "EPOCH 47 OF 50 | hannibal | TRAIN MEAN LOSS: 0.004098 | VAL MEAN LOSS: 0.004110\n",
      "EPOCH 48 OF 50 | hannibal | TRAIN MEAN LOSS: 0.004097 | VAL MEAN LOSS: 0.004118\n",
      "EPOCH 49 OF 50 | hannibal | TRAIN MEAN LOSS: 0.004101 | VAL MEAN LOSS: 0.004123\n",
      "EPOCH 50 OF 50 | hannibal | TRAIN MEAN LOSS: 0.004094 | VAL MEAN LOSS: 0.004103\n"
     ]
    },
    {
     "data": {
      "image/png": "[encoded data removed]",
      "text/plain": [
       "<Figure size 640x480 with 1 Axes>"
      ]
     },
     "metadata": {},
     "output_type": "display_data"
    },
    {
     "name": "stdout",
     "output_type": "stream",
     "text": [
      "TEST MEAN LOSS: 0.048795\n",
      "TEST ACCURACY: 0.624238\n"
     ]
    },
    {
     "data": {
      "text/html": [
       "<style>\n",
       "    table.wandb td:nth-child(1) { padding: 0 10px; text-align: left ; width: auto;} td:nth-child(2) {text-align: left ; width: 100%}\n",
       "    .wandb-row { display: flex; flex-direction: row; flex-wrap: wrap; justify-content: flex-start; width: 100% }\n",
       "    .wandb-col { display: flex; flex-direction: column; flex-basis: 100%; flex: 1; padding: 10px; }\n",
       "    </style>\n",
       "<div class=\"wandb-row\"><div class=\"wandb-col\"><h3>Run history:</h3><br/><table class=\"wandb\"><tr><td>learning_rate</td><td>█████████████▂▂▂▂▂▂▂▂▂▁▁▁▁▁▁▁▁▁▁▁▁▁▁▁▁▁▁</td></tr><tr><td>test_accuracy</td><td>▁</td></tr><tr><td>test_mean_loss</td><td>▁</td></tr><tr><td>train_mean_loss</td><td>█▁▁▁▁▁▁▁▁▁▁▁▁▁▁▁▁▁▁▁▁▁▁▁▁▁▁▁▁▁▁▁▁▁▁▁▁▁▁▁</td></tr><tr><td>val_mean_loss</td><td>▅▄█▂▅▂▂▁▅▁▂▂▃▂▁▁▁▁▁▁▁▁▁▁▁▁▁▁▁▁▁▁▁▁▁▁▁▁▁▁</td></tr></table><br/></div><div class=\"wandb-col\"><h3>Run summary:</h3><br/><table class=\"wandb\"><tr><td>learning_rate</td><td>0.0</td></tr><tr><td>test_accuracy</td><td>0.62424</td></tr><tr><td>test_mean_loss</td><td>0.04879</td></tr><tr><td>train_mean_loss</td><td>0.00409</td></tr><tr><td>val_mean_loss</td><td>0.0041</td></tr></table><br/></div></div>"
      ],
      "text/plain": [
       "<IPython.core.display.HTML object>"
      ]
     },
     "metadata": {},
     "output_type": "display_data"
    },
    {
     "data": {
      "text/html": [
       " View run <strong style=\"color:#cdcd00\">smart-oath-91</strong> at: <a href='https://wandb.ai/sharshe/TBN/runs/1m1sg69t' target=\"_blank\">https://wandb.ai/sharshe/TBN/runs/1m1sg69t</a><br/> View project at: <a href='https://wandb.ai/sharshe/TBN' target=\"_blank\">https://wandb.ai/sharshe/TBN</a><br/>Synced 5 W&B file(s), 0 media file(s), 2 artifact file(s) and 1 other file(s)"
      ],
      "text/plain": [
       "<IPython.core.display.HTML object>"
      ]
     },
     "metadata": {},
     "output_type": "display_data"
    },
    {
     "data": {
      "text/html": [
       "Find logs at: <code>./wandb/run-20241025_130409-1m1sg69t/logs</code>"
      ],
      "text/plain": [
       "<IPython.core.display.HTML object>"
      ]
     },
     "metadata": {},
     "output_type": "display_data"
    }
   ],
   "source": [
    "scripts.train_test(model=model, train_dataloader=train_dataloader, val_dataloader=val_dataloader, test_dataloader=test_dataloader, cfg_dict=cfg_dict, loss_fn=loss_fn, optimizer=optimizer, scheduler=scheduler)"
   ]
  },
  {
   "cell_type": "code",
   "execution_count": null,
   "metadata": {},
   "outputs": [],
   "source": [
    "``"
   ]
  }
 ],
 "metadata": {
  "kernelspec": {
   "display_name": "TBN",
   "language": "python",
   "name": "python3"
  },
  "language_info": {
   "codemirror_mode": {
    "name": "ipython",
    "version": 3
   },
   "file_extension": ".py",
   "mimetype": "text/x-python",
   "name": "python",
   "nbconvert_exporter": "python",
   "pygments_lexer": "ipython3",
   "version": "3.11.10"
  }
 },
 "nbformat": 4,
 "nbformat_minor": 2
}
